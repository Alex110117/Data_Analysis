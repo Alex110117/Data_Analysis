{
 "cells": [
  {
   "cell_type": "markdown",
   "metadata": {},
   "source": [
    "## Итоговый проект:\n",
    "# \"Big Data: основы работы с большими массивами данных\""
   ]
  },
  {
   "cell_type": "markdown",
   "metadata": {},
   "source": [
    "### Работаем с набором данных [MovieLens 100K Dataset](https://grouplens.org/datasets/movielens/100k/)\n",
    "\n",
    "**Необходимые файлы:**\n",
    "- u.data\n",
    "- u.genre\n",
    "- u.info\n",
    "- u.item\n",
    "- u.occupation\n",
    "- u.user"
   ]
  },
  {
   "cell_type": "code",
   "execution_count": 184,
   "metadata": {},
   "outputs": [],
   "source": [
    "import numpy as np\n",
    "import pandas as pd\n",
    "import statistics\n",
    "import scipy.stats as sts\n",
    "import seaborn as sns\n",
    "import matplotlib.pyplot as plt\n",
    "from scipy import stats\n",
    "from sklearn.preprocessing import LabelEncoder\n",
    "from sklearn import model_selection\n",
    "from sklearn.ensemble import RandomForestClassifier\n",
    "from sklearn.model_selection import train_test_split\n",
    "\n",
    "import warnings\n",
    "warnings.simplefilter('ignore')\n",
    "\n",
    "%matplotlib inline"
   ]
  },
  {
   "cell_type": "markdown",
   "metadata": {},
   "source": [
    "## 1. Загрузить данные в pandas"
   ]
  },
  {
   "cell_type": "code",
   "execution_count": 2,
   "metadata": {},
   "outputs": [],
   "source": [
    "df_data = pd.read_csv(\"/Users/aleksandr/Desktop/big_data/u.data\", sep='\\t', header=None)\n",
    "df_genre = pd.read_csv(\"/Users/aleksandr/Desktop/big_data/u.genre\", sep='|', header=None)\n",
    "df_info = pd.read_csv(\"/Users/aleksandr/Desktop/big_data/u.info\", sep=' ', header=None)\n",
    "df_item = pd.read_csv(\"/Users/aleksandr/Desktop/big_data/u.item\", sep='|', encoding='latin_1', header=None)\n",
    "df_occupation = pd.read_csv(\"/Users/aleksandr/Desktop/big_data/u.occupation\", sep=' ', header=None)\n",
    "df_user = pd.read_csv(\"/Users/aleksandr/Desktop/big_data/u.user\", sep='|', header=None)"
   ]
  },
  {
   "cell_type": "markdown",
   "metadata": {},
   "source": [
    "**Дадим корректные названия колонкам в каждом из файлов**"
   ]
  },
  {
   "cell_type": "code",
   "execution_count": 3,
   "metadata": {},
   "outputs": [],
   "source": [
    "df_data.columns = ['user_id', 'movie_id', 'rating', 'timestamp']\n",
    "df_genre.columns = ['genres', 'genres_id']\n",
    "df_occupation.columns = ['occupation']\n",
    "df_user.columns = ['user_id', 'age', 'gender', 'occupation', 'zip_code']\n",
    "df_item.columns = ['movie_id', 'movie_title', 'release_date', 'video_release_date', \n",
    "                   'IMDb_URL', 'unknown', 'Action', 'Adventure', 'Animation', \"Children's\", \n",
    "                   'Comedy', 'Crime', 'Documentary', 'Drama', 'Fantasy', 'Film-Noir', \n",
    "                   'Horror', 'Musical', 'Mystery', 'Romance', 'Sci-Fi', 'Thriller', \n",
    "                   'War', 'Western']"
   ]
  },
  {
   "cell_type": "markdown",
   "metadata": {},
   "source": [
    "**Выводы по данным:**\n",
    "\n",
    "- в некоторых файлах происходит дубликация данных, таких как u.user и u.occupation\n",
    "    - u.occupation в дальнейшем не будет учавствовать в анализе т.к. необходимая для нас информация есть в u.user\n",
    "    \n",
    "    \n",
    "- в файле u.info суммарная информация по колличесту пользователей, предметов, оценках\n",
    "    - u.info в дальнейшем не будет учавствовать в анализе т.к. файл несет чисто информационных характер\n",
    "    \n",
    "    \n",
    "- из наблюдения по содержанию файла u.item и u.data столбец movie_id = item_id\n",
    "    - в u.data вместо колонки item_id сразу переименую ее в movie_id для дальнейшей склейки данных\n",
    "\n",
    "\n",
    "- по файлу u.genre пока трудно сказать необходим ли он нам в дальнейшем т.к. информация о жанре присутствует в u.item и она более полезна потому что в фильме может присутствать не только один жанр\n",
    "\n",
    "\n",
    "***Можно формировать единый dataset для последующего анализа***"
   ]
  },
  {
   "cell_type": "code",
   "execution_count": 4,
   "metadata": {},
   "outputs": [],
   "source": [
    "d1 = pd.merge(df_data, df_user, on='user_id', how='inner')\n",
    "data = pd.merge(d1, df_item, on='movie_id', how='inner')"
   ]
  },
  {
   "cell_type": "code",
   "execution_count": 5,
   "metadata": {},
   "outputs": [
    {
     "data": {
      "text/html": [
       "<div>\n",
       "<style scoped>\n",
       "    .dataframe tbody tr th:only-of-type {\n",
       "        vertical-align: middle;\n",
       "    }\n",
       "\n",
       "    .dataframe tbody tr th {\n",
       "        vertical-align: top;\n",
       "    }\n",
       "\n",
       "    .dataframe thead th {\n",
       "        text-align: right;\n",
       "    }\n",
       "</style>\n",
       "<table border=\"1\" class=\"dataframe\">\n",
       "  <thead>\n",
       "    <tr style=\"text-align: right;\">\n",
       "      <th></th>\n",
       "      <th>user_id</th>\n",
       "      <th>movie_id</th>\n",
       "      <th>rating</th>\n",
       "      <th>timestamp</th>\n",
       "      <th>age</th>\n",
       "      <th>gender</th>\n",
       "      <th>occupation</th>\n",
       "      <th>zip_code</th>\n",
       "      <th>movie_title</th>\n",
       "      <th>release_date</th>\n",
       "      <th>...</th>\n",
       "      <th>Fantasy</th>\n",
       "      <th>Film-Noir</th>\n",
       "      <th>Horror</th>\n",
       "      <th>Musical</th>\n",
       "      <th>Mystery</th>\n",
       "      <th>Romance</th>\n",
       "      <th>Sci-Fi</th>\n",
       "      <th>Thriller</th>\n",
       "      <th>War</th>\n",
       "      <th>Western</th>\n",
       "    </tr>\n",
       "  </thead>\n",
       "  <tbody>\n",
       "    <tr>\n",
       "      <th>35655</th>\n",
       "      <td>887</td>\n",
       "      <td>673</td>\n",
       "      <td>5</td>\n",
       "      <td>881381382</td>\n",
       "      <td>14</td>\n",
       "      <td>F</td>\n",
       "      <td>student</td>\n",
       "      <td>27249</td>\n",
       "      <td>Cape Fear (1962)</td>\n",
       "      <td>01-Jan-1962</td>\n",
       "      <td>...</td>\n",
       "      <td>0</td>\n",
       "      <td>1</td>\n",
       "      <td>0</td>\n",
       "      <td>0</td>\n",
       "      <td>0</td>\n",
       "      <td>0</td>\n",
       "      <td>0</td>\n",
       "      <td>1</td>\n",
       "      <td>0</td>\n",
       "      <td>0</td>\n",
       "    </tr>\n",
       "    <tr>\n",
       "      <th>60945</th>\n",
       "      <td>198</td>\n",
       "      <td>143</td>\n",
       "      <td>3</td>\n",
       "      <td>884208951</td>\n",
       "      <td>21</td>\n",
       "      <td>F</td>\n",
       "      <td>student</td>\n",
       "      <td>55414</td>\n",
       "      <td>Sound of Music, The (1965)</td>\n",
       "      <td>01-Jan-1965</td>\n",
       "      <td>...</td>\n",
       "      <td>0</td>\n",
       "      <td>0</td>\n",
       "      <td>0</td>\n",
       "      <td>1</td>\n",
       "      <td>0</td>\n",
       "      <td>0</td>\n",
       "      <td>0</td>\n",
       "      <td>0</td>\n",
       "      <td>0</td>\n",
       "      <td>0</td>\n",
       "    </tr>\n",
       "    <tr>\n",
       "      <th>17912</th>\n",
       "      <td>136</td>\n",
       "      <td>298</td>\n",
       "      <td>4</td>\n",
       "      <td>882693569</td>\n",
       "      <td>51</td>\n",
       "      <td>M</td>\n",
       "      <td>other</td>\n",
       "      <td>97365</td>\n",
       "      <td>Face/Off (1997)</td>\n",
       "      <td>27-Jun-1997</td>\n",
       "      <td>...</td>\n",
       "      <td>0</td>\n",
       "      <td>0</td>\n",
       "      <td>0</td>\n",
       "      <td>0</td>\n",
       "      <td>0</td>\n",
       "      <td>0</td>\n",
       "      <td>1</td>\n",
       "      <td>1</td>\n",
       "      <td>0</td>\n",
       "      <td>0</td>\n",
       "    </tr>\n",
       "    <tr>\n",
       "      <th>41947</th>\n",
       "      <td>345</td>\n",
       "      <td>69</td>\n",
       "      <td>4</td>\n",
       "      <td>884992755</td>\n",
       "      <td>28</td>\n",
       "      <td>F</td>\n",
       "      <td>librarian</td>\n",
       "      <td>94143</td>\n",
       "      <td>Forrest Gump (1994)</td>\n",
       "      <td>01-Jan-1994</td>\n",
       "      <td>...</td>\n",
       "      <td>0</td>\n",
       "      <td>0</td>\n",
       "      <td>0</td>\n",
       "      <td>0</td>\n",
       "      <td>0</td>\n",
       "      <td>1</td>\n",
       "      <td>0</td>\n",
       "      <td>0</td>\n",
       "      <td>1</td>\n",
       "      <td>0</td>\n",
       "    </tr>\n",
       "    <tr>\n",
       "      <th>36160</th>\n",
       "      <td>940</td>\n",
       "      <td>310</td>\n",
       "      <td>3</td>\n",
       "      <td>884800966</td>\n",
       "      <td>32</td>\n",
       "      <td>M</td>\n",
       "      <td>administrator</td>\n",
       "      <td>02215</td>\n",
       "      <td>Rainmaker, The (1997)</td>\n",
       "      <td>01-Jan-1997</td>\n",
       "      <td>...</td>\n",
       "      <td>0</td>\n",
       "      <td>0</td>\n",
       "      <td>0</td>\n",
       "      <td>0</td>\n",
       "      <td>0</td>\n",
       "      <td>0</td>\n",
       "      <td>0</td>\n",
       "      <td>0</td>\n",
       "      <td>0</td>\n",
       "      <td>0</td>\n",
       "    </tr>\n",
       "  </tbody>\n",
       "</table>\n",
       "<p>5 rows × 31 columns</p>\n",
       "</div>"
      ],
      "text/plain": [
       "       user_id  movie_id  rating  timestamp  age gender     occupation  \\\n",
       "35655      887       673       5  881381382   14      F        student   \n",
       "60945      198       143       3  884208951   21      F        student   \n",
       "17912      136       298       4  882693569   51      M          other   \n",
       "41947      345        69       4  884992755   28      F      librarian   \n",
       "36160      940       310       3  884800966   32      M  administrator   \n",
       "\n",
       "      zip_code                 movie_title release_date  ...  Fantasy  \\\n",
       "35655    27249            Cape Fear (1962)  01-Jan-1962  ...        0   \n",
       "60945    55414  Sound of Music, The (1965)  01-Jan-1965  ...        0   \n",
       "17912    97365             Face/Off (1997)  27-Jun-1997  ...        0   \n",
       "41947    94143         Forrest Gump (1994)  01-Jan-1994  ...        0   \n",
       "36160    02215       Rainmaker, The (1997)  01-Jan-1997  ...        0   \n",
       "\n",
       "      Film-Noir  Horror  Musical  Mystery  Romance  Sci-Fi  Thriller  War  \\\n",
       "35655         1       0        0        0        0       0         1    0   \n",
       "60945         0       0        1        0        0       0         0    0   \n",
       "17912         0       0        0        0        0       1         1    0   \n",
       "41947         0       0        0        0        1       0         0    1   \n",
       "36160         0       0        0        0        0       0         0    0   \n",
       "\n",
       "       Western  \n",
       "35655        0  \n",
       "60945        0  \n",
       "17912        0  \n",
       "41947        0  \n",
       "36160        0  \n",
       "\n",
       "[5 rows x 31 columns]"
      ]
     },
     "execution_count": 5,
     "metadata": {},
     "output_type": "execute_result"
    }
   ],
   "source": [
    "data.sample(5)"
   ]
  },
  {
   "cell_type": "markdown",
   "metadata": {},
   "source": [
    "**Получаем объедененный dataset \"data\" для последующей работы, изучим его более подробнее**"
   ]
  },
  {
   "cell_type": "code",
   "execution_count": 6,
   "metadata": {},
   "outputs": [
    {
     "data": {
      "text/plain": [
       "Index(['user_id', 'movie_id', 'rating', 'timestamp', 'age', 'gender',\n",
       "       'occupation', 'zip_code', 'movie_title', 'release_date',\n",
       "       'video_release_date', 'IMDb_URL', 'unknown', 'Action', 'Adventure',\n",
       "       'Animation', 'Children's', 'Comedy', 'Crime', 'Documentary', 'Drama',\n",
       "       'Fantasy', 'Film-Noir', 'Horror', 'Musical', 'Mystery', 'Romance',\n",
       "       'Sci-Fi', 'Thriller', 'War', 'Western'],\n",
       "      dtype='object')"
      ]
     },
     "execution_count": 6,
     "metadata": {},
     "output_type": "execute_result"
    }
   ],
   "source": [
    "data.columns"
   ]
  },
  {
   "cell_type": "markdown",
   "metadata": {},
   "source": [
    "**Разберемся с названием колонок, чтобы понимать содержимое нашего dataset:**\n",
    "- 'user_id' - id пользователя\n",
    "- 'movie_id' - id фильма\n",
    "- 'rating'- рейтинг оставленный пользователем фильму\n",
    "- 'timestamp' - дата когда пользователь оставил отзыв\n",
    "- 'age' - возраст пользователя\n",
    "- 'gender' - пол пользователя\n",
    "- 'occupation' - профессия пользователя\n",
    "- 'zip_code' - почтовый индекс пользователя\n",
    "- 'movie_title' - название фильма\n",
    "- 'release_date' - дата выхода фильма\n",
    "- 'video_release_date' - дата выхода фильма (тут нужно изучить подробнее)\n",
    "- 'IMDb_URL' - ссылка на рейтинг IMDb к фильму\n",
    "- 'unknown', 'Action', 'Adventure', 'Animation', 'Children's', 'Comedy', 'Crime', 'Documentary', 'Drama', 'Fantasy', 'Film-Noir', 'Horror', 'Musical', 'Mystery', 'Romance', 'Sci-Fi', 'Thriller', 'War', 'Western' - жанры фильмов"
   ]
  },
  {
   "cell_type": "code",
   "execution_count": 7,
   "metadata": {},
   "outputs": [
    {
     "name": "stdout",
     "output_type": "stream",
     "text": [
      "<class 'pandas.core.frame.DataFrame'>\n",
      "Int64Index: 100000 entries, 0 to 99999\n",
      "Data columns (total 31 columns):\n",
      "user_id               100000 non-null int64\n",
      "movie_id              100000 non-null int64\n",
      "rating                100000 non-null int64\n",
      "timestamp             100000 non-null int64\n",
      "age                   100000 non-null int64\n",
      "gender                100000 non-null object\n",
      "occupation            100000 non-null object\n",
      "zip_code              100000 non-null object\n",
      "movie_title           100000 non-null object\n",
      "release_date          99991 non-null object\n",
      "video_release_date    0 non-null float64\n",
      "IMDb_URL              99987 non-null object\n",
      "unknown               100000 non-null int64\n",
      "Action                100000 non-null int64\n",
      "Adventure             100000 non-null int64\n",
      "Animation             100000 non-null int64\n",
      "Children's            100000 non-null int64\n",
      "Comedy                100000 non-null int64\n",
      "Crime                 100000 non-null int64\n",
      "Documentary           100000 non-null int64\n",
      "Drama                 100000 non-null int64\n",
      "Fantasy               100000 non-null int64\n",
      "Film-Noir             100000 non-null int64\n",
      "Horror                100000 non-null int64\n",
      "Musical               100000 non-null int64\n",
      "Mystery               100000 non-null int64\n",
      "Romance               100000 non-null int64\n",
      "Sci-Fi                100000 non-null int64\n",
      "Thriller              100000 non-null int64\n",
      "War                   100000 non-null int64\n",
      "Western               100000 non-null int64\n",
      "dtypes: float64(1), int64(24), object(6)\n",
      "memory usage: 24.4+ MB\n"
     ]
    }
   ],
   "source": [
    "data.info()"
   ]
  },
  {
   "cell_type": "markdown",
   "metadata": {},
   "source": [
    "**Посмотрим на выбросы в данных**"
   ]
  },
  {
   "cell_type": "code",
   "execution_count": 8,
   "metadata": {
    "scrolled": false
   },
   "outputs": [
    {
     "data": {
      "text/html": [
       "<div>\n",
       "<style scoped>\n",
       "    .dataframe tbody tr th:only-of-type {\n",
       "        vertical-align: middle;\n",
       "    }\n",
       "\n",
       "    .dataframe tbody tr th {\n",
       "        vertical-align: top;\n",
       "    }\n",
       "\n",
       "    .dataframe thead th {\n",
       "        text-align: right;\n",
       "    }\n",
       "</style>\n",
       "<table border=\"1\" class=\"dataframe\">\n",
       "  <thead>\n",
       "    <tr style=\"text-align: right;\">\n",
       "      <th></th>\n",
       "      <th>Total</th>\n",
       "      <th>Percent</th>\n",
       "    </tr>\n",
       "  </thead>\n",
       "  <tbody>\n",
       "    <tr>\n",
       "      <th>video_release_date</th>\n",
       "      <td>100000</td>\n",
       "      <td>100.000</td>\n",
       "    </tr>\n",
       "    <tr>\n",
       "      <th>IMDb_URL</th>\n",
       "      <td>13</td>\n",
       "      <td>0.013</td>\n",
       "    </tr>\n",
       "    <tr>\n",
       "      <th>release_date</th>\n",
       "      <td>9</td>\n",
       "      <td>0.009</td>\n",
       "    </tr>\n",
       "  </tbody>\n",
       "</table>\n",
       "</div>"
      ],
      "text/plain": [
       "                     Total  Percent\n",
       "video_release_date  100000  100.000\n",
       "IMDb_URL                13    0.013\n",
       "release_date             9    0.009"
      ]
     },
     "execution_count": 8,
     "metadata": {},
     "output_type": "execute_result"
    },
    {
     "data": {
      "image/png": "[encoded data removed]",
      "text/plain": [
       "<Figure size 576x432 with 1 Axes>"
      ]
     },
     "metadata": {
      "needs_background": "light"
     },
     "output_type": "display_data"
    }
   ],
   "source": [
    "def missingdata(data):\n",
    "    total = data.isnull().sum().sort_values(ascending = False)\n",
    "    percent = (data.isnull().sum()/data.isnull().count()*100).sort_values(ascending = False)\n",
    "    ms=pd.concat([total, percent], axis=1, keys=['Total', 'Percent'])\n",
    "    ms= ms[ms[\"Percent\"] > 0]\n",
    "    f,ax =plt.subplots(figsize=(8,6))\n",
    "    plt.xticks(rotation='80')\n",
    "    fig=sns.barplot(ms.index, ms[\"Percent\"],color=\"red\",alpha=0.8)\n",
    "    plt.xlabel('Независимые величины', fontsize=15)\n",
    "    plt.ylabel('Процент отсутствующих данных', fontsize=15)\n",
    "    plt.title('Процент NaN в данных', fontsize=15)\n",
    "    return ms\n",
    "\n",
    "missingdata(data)"
   ]
  },
  {
   "cell_type": "markdown",
   "metadata": {},
   "source": [
    "**Вывод:**\n",
    "- по info у нас довольно много переменных, но насколько эти переменные имеют значение? Некоторые переменные можно исключить\n",
    "- необходимо убрать выбросы из нашего dataset"
   ]
  },
  {
   "cell_type": "code",
   "execution_count": 9,
   "metadata": {},
   "outputs": [],
   "source": [
    "drop_column = ['video_release_date', 'IMDb_URL', 'zip_code', 'release_date']\n",
    "data_d1 = data.drop(drop_column, axis=1)"
   ]
  },
  {
   "cell_type": "code",
   "execution_count": 10,
   "metadata": {},
   "outputs": [
    {
     "data": {
      "text/html": [
       "<div>\n",
       "<style scoped>\n",
       "    .dataframe tbody tr th:only-of-type {\n",
       "        vertical-align: middle;\n",
       "    }\n",
       "\n",
       "    .dataframe tbody tr th {\n",
       "        vertical-align: top;\n",
       "    }\n",
       "\n",
       "    .dataframe thead th {\n",
       "        text-align: right;\n",
       "    }\n",
       "</style>\n",
       "<table border=\"1\" class=\"dataframe\">\n",
       "  <thead>\n",
       "    <tr style=\"text-align: right;\">\n",
       "      <th></th>\n",
       "      <th>user_id</th>\n",
       "      <th>movie_id</th>\n",
       "      <th>rating</th>\n",
       "      <th>timestamp</th>\n",
       "      <th>age</th>\n",
       "      <th>gender</th>\n",
       "      <th>occupation</th>\n",
       "      <th>movie_title</th>\n",
       "      <th>unknown</th>\n",
       "      <th>Action</th>\n",
       "      <th>...</th>\n",
       "      <th>Fantasy</th>\n",
       "      <th>Film-Noir</th>\n",
       "      <th>Horror</th>\n",
       "      <th>Musical</th>\n",
       "      <th>Mystery</th>\n",
       "      <th>Romance</th>\n",
       "      <th>Sci-Fi</th>\n",
       "      <th>Thriller</th>\n",
       "      <th>War</th>\n",
       "      <th>Western</th>\n",
       "    </tr>\n",
       "  </thead>\n",
       "  <tbody>\n",
       "    <tr>\n",
       "      <th>0</th>\n",
       "      <td>196</td>\n",
       "      <td>242</td>\n",
       "      <td>3</td>\n",
       "      <td>881250949</td>\n",
       "      <td>49</td>\n",
       "      <td>M</td>\n",
       "      <td>writer</td>\n",
       "      <td>Kolya (1996)</td>\n",
       "      <td>0</td>\n",
       "      <td>0</td>\n",
       "      <td>...</td>\n",
       "      <td>0</td>\n",
       "      <td>0</td>\n",
       "      <td>0</td>\n",
       "      <td>0</td>\n",
       "      <td>0</td>\n",
       "      <td>0</td>\n",
       "      <td>0</td>\n",
       "      <td>0</td>\n",
       "      <td>0</td>\n",
       "      <td>0</td>\n",
       "    </tr>\n",
       "    <tr>\n",
       "      <th>1</th>\n",
       "      <td>305</td>\n",
       "      <td>242</td>\n",
       "      <td>5</td>\n",
       "      <td>886307828</td>\n",
       "      <td>23</td>\n",
       "      <td>M</td>\n",
       "      <td>programmer</td>\n",
       "      <td>Kolya (1996)</td>\n",
       "      <td>0</td>\n",
       "      <td>0</td>\n",
       "      <td>...</td>\n",
       "      <td>0</td>\n",
       "      <td>0</td>\n",
       "      <td>0</td>\n",
       "      <td>0</td>\n",
       "      <td>0</td>\n",
       "      <td>0</td>\n",
       "      <td>0</td>\n",
       "      <td>0</td>\n",
       "      <td>0</td>\n",
       "      <td>0</td>\n",
       "    </tr>\n",
       "    <tr>\n",
       "      <th>2</th>\n",
       "      <td>6</td>\n",
       "      <td>242</td>\n",
       "      <td>4</td>\n",
       "      <td>883268170</td>\n",
       "      <td>42</td>\n",
       "      <td>M</td>\n",
       "      <td>executive</td>\n",
       "      <td>Kolya (1996)</td>\n",
       "      <td>0</td>\n",
       "      <td>0</td>\n",
       "      <td>...</td>\n",
       "      <td>0</td>\n",
       "      <td>0</td>\n",
       "      <td>0</td>\n",
       "      <td>0</td>\n",
       "      <td>0</td>\n",
       "      <td>0</td>\n",
       "      <td>0</td>\n",
       "      <td>0</td>\n",
       "      <td>0</td>\n",
       "      <td>0</td>\n",
       "    </tr>\n",
       "    <tr>\n",
       "      <th>3</th>\n",
       "      <td>234</td>\n",
       "      <td>242</td>\n",
       "      <td>4</td>\n",
       "      <td>891033261</td>\n",
       "      <td>60</td>\n",
       "      <td>M</td>\n",
       "      <td>retired</td>\n",
       "      <td>Kolya (1996)</td>\n",
       "      <td>0</td>\n",
       "      <td>0</td>\n",
       "      <td>...</td>\n",
       "      <td>0</td>\n",
       "      <td>0</td>\n",
       "      <td>0</td>\n",
       "      <td>0</td>\n",
       "      <td>0</td>\n",
       "      <td>0</td>\n",
       "      <td>0</td>\n",
       "      <td>0</td>\n",
       "      <td>0</td>\n",
       "      <td>0</td>\n",
       "    </tr>\n",
       "    <tr>\n",
       "      <th>4</th>\n",
       "      <td>63</td>\n",
       "      <td>242</td>\n",
       "      <td>3</td>\n",
       "      <td>875747190</td>\n",
       "      <td>31</td>\n",
       "      <td>M</td>\n",
       "      <td>marketing</td>\n",
       "      <td>Kolya (1996)</td>\n",
       "      <td>0</td>\n",
       "      <td>0</td>\n",
       "      <td>...</td>\n",
       "      <td>0</td>\n",
       "      <td>0</td>\n",
       "      <td>0</td>\n",
       "      <td>0</td>\n",
       "      <td>0</td>\n",
       "      <td>0</td>\n",
       "      <td>0</td>\n",
       "      <td>0</td>\n",
       "      <td>0</td>\n",
       "      <td>0</td>\n",
       "    </tr>\n",
       "  </tbody>\n",
       "</table>\n",
       "<p>5 rows × 27 columns</p>\n",
       "</div>"
      ],
      "text/plain": [
       "   user_id  movie_id  rating  timestamp  age gender  occupation   movie_title  \\\n",
       "0      196       242       3  881250949   49      M      writer  Kolya (1996)   \n",
       "1      305       242       5  886307828   23      M  programmer  Kolya (1996)   \n",
       "2        6       242       4  883268170   42      M   executive  Kolya (1996)   \n",
       "3      234       242       4  891033261   60      M     retired  Kolya (1996)   \n",
       "4       63       242       3  875747190   31      M   marketing  Kolya (1996)   \n",
       "\n",
       "   unknown  Action  ...  Fantasy  Film-Noir  Horror  Musical  Mystery  \\\n",
       "0        0       0  ...        0          0       0        0        0   \n",
       "1        0       0  ...        0          0       0        0        0   \n",
       "2        0       0  ...        0          0       0        0        0   \n",
       "3        0       0  ...        0          0       0        0        0   \n",
       "4        0       0  ...        0          0       0        0        0   \n",
       "\n",
       "   Romance  Sci-Fi  Thriller  War  Western  \n",
       "0        0       0         0    0        0  \n",
       "1        0       0         0    0        0  \n",
       "2        0       0         0    0        0  \n",
       "3        0       0         0    0        0  \n",
       "4        0       0         0    0        0  \n",
       "\n",
       "[5 rows x 27 columns]"
      ]
     },
     "execution_count": 10,
     "metadata": {},
     "output_type": "execute_result"
    }
   ],
   "source": [
    "data_d1.head()"
   ]
  },
  {
   "cell_type": "code",
   "execution_count": 81,
   "metadata": {},
   "outputs": [
    {
     "data": {
      "text/plain": [
       "user_id        0\n",
       "movie_id       0\n",
       "rating         0\n",
       "timestamp      0\n",
       "age            0\n",
       "gender         0\n",
       "occupation     0\n",
       "movie_title    0\n",
       "unknown        0\n",
       "Action         0\n",
       "Adventure      0\n",
       "Animation      0\n",
       "Children's     0\n",
       "Comedy         0\n",
       "Crime          0\n",
       "Documentary    0\n",
       "Drama          0\n",
       "Fantasy        0\n",
       "Film-Noir      0\n",
       "Horror         0\n",
       "Musical        0\n",
       "Mystery        0\n",
       "Romance        0\n",
       "Sci-Fi         0\n",
       "Thriller       0\n",
       "War            0\n",
       "Western        0\n",
       "sex            0\n",
       "dtype: int64"
      ]
     },
     "metadata": {},
     "output_type": "display_data"
    },
    {
     "name": "stdout",
     "output_type": "stream",
     "text": [
      "Итого выбросов данных: 0\n"
     ]
    }
   ],
   "source": [
    "display(data_d1.isnull().sum())\n",
    "print('Итого выбросов данных: {}'.format(data_d1.isnull().sum().sum()))"
   ]
  },
  {
   "cell_type": "markdown",
   "metadata": {},
   "source": [
    "**Выбросов нет, поменяем поле 'gender' на числовое**"
   ]
  },
  {
   "cell_type": "code",
   "execution_count": 12,
   "metadata": {},
   "outputs": [],
   "source": [
    "data_d1['sex'] = data_d1['gender']\n",
    "data_d1.loc[data_d1['gender'] == 'F', 'sex'] = 0\n",
    "data_d1.loc[data_d1['gender'] == 'M', 'sex'] = 1\n",
    "\n",
    "data_d2 = data_d1.drop(['gender'], axis = 1)\n",
    "df = data_d2[['user_id', 'movie_id', 'rating', 'timestamp', 'age', 'sex', 'occupation',\n",
    "       'movie_title', 'unknown', 'Action', 'Adventure', 'Animation',\n",
    "       \"Children's\", 'Comedy', 'Crime', 'Documentary', 'Drama', 'Fantasy',\n",
    "       'Film-Noir', 'Horror', 'Musical', 'Mystery', 'Romance', 'Sci-Fi',\n",
    "       'Thriller', 'War', 'Western']]"
   ]
  },
  {
   "cell_type": "code",
   "execution_count": 13,
   "metadata": {},
   "outputs": [
    {
     "data": {
      "text/html": [
       "<div>\n",
       "<style scoped>\n",
       "    .dataframe tbody tr th:only-of-type {\n",
       "        vertical-align: middle;\n",
       "    }\n",
       "\n",
       "    .dataframe tbody tr th {\n",
       "        vertical-align: top;\n",
       "    }\n",
       "\n",
       "    .dataframe thead th {\n",
       "        text-align: right;\n",
       "    }\n",
       "</style>\n",
       "<table border=\"1\" class=\"dataframe\">\n",
       "  <thead>\n",
       "    <tr style=\"text-align: right;\">\n",
       "      <th></th>\n",
       "      <th>user_id</th>\n",
       "      <th>movie_id</th>\n",
       "      <th>rating</th>\n",
       "      <th>timestamp</th>\n",
       "      <th>age</th>\n",
       "      <th>sex</th>\n",
       "      <th>occupation</th>\n",
       "      <th>movie_title</th>\n",
       "      <th>unknown</th>\n",
       "      <th>Action</th>\n",
       "      <th>...</th>\n",
       "      <th>Fantasy</th>\n",
       "      <th>Film-Noir</th>\n",
       "      <th>Horror</th>\n",
       "      <th>Musical</th>\n",
       "      <th>Mystery</th>\n",
       "      <th>Romance</th>\n",
       "      <th>Sci-Fi</th>\n",
       "      <th>Thriller</th>\n",
       "      <th>War</th>\n",
       "      <th>Western</th>\n",
       "    </tr>\n",
       "  </thead>\n",
       "  <tbody>\n",
       "    <tr>\n",
       "      <th>7767</th>\n",
       "      <td>381</td>\n",
       "      <td>588</td>\n",
       "      <td>3</td>\n",
       "      <td>892697338</td>\n",
       "      <td>33</td>\n",
       "      <td>1</td>\n",
       "      <td>artist</td>\n",
       "      <td>Beauty and the Beast (1991)</td>\n",
       "      <td>0</td>\n",
       "      <td>0</td>\n",
       "      <td>...</td>\n",
       "      <td>0</td>\n",
       "      <td>0</td>\n",
       "      <td>0</td>\n",
       "      <td>1</td>\n",
       "      <td>0</td>\n",
       "      <td>0</td>\n",
       "      <td>0</td>\n",
       "      <td>0</td>\n",
       "      <td>0</td>\n",
       "      <td>0</td>\n",
       "    </tr>\n",
       "    <tr>\n",
       "      <th>26245</th>\n",
       "      <td>396</td>\n",
       "      <td>871</td>\n",
       "      <td>2</td>\n",
       "      <td>884646289</td>\n",
       "      <td>57</td>\n",
       "      <td>1</td>\n",
       "      <td>engineer</td>\n",
       "      <td>Vegas Vacation (1997)</td>\n",
       "      <td>0</td>\n",
       "      <td>0</td>\n",
       "      <td>...</td>\n",
       "      <td>0</td>\n",
       "      <td>0</td>\n",
       "      <td>0</td>\n",
       "      <td>0</td>\n",
       "      <td>0</td>\n",
       "      <td>0</td>\n",
       "      <td>0</td>\n",
       "      <td>0</td>\n",
       "      <td>0</td>\n",
       "      <td>0</td>\n",
       "    </tr>\n",
       "    <tr>\n",
       "      <th>89643</th>\n",
       "      <td>574</td>\n",
       "      <td>319</td>\n",
       "      <td>5</td>\n",
       "      <td>891279236</td>\n",
       "      <td>56</td>\n",
       "      <td>1</td>\n",
       "      <td>educator</td>\n",
       "      <td>Everyone Says I Love You (1996)</td>\n",
       "      <td>0</td>\n",
       "      <td>0</td>\n",
       "      <td>...</td>\n",
       "      <td>0</td>\n",
       "      <td>0</td>\n",
       "      <td>0</td>\n",
       "      <td>1</td>\n",
       "      <td>0</td>\n",
       "      <td>1</td>\n",
       "      <td>0</td>\n",
       "      <td>0</td>\n",
       "      <td>0</td>\n",
       "      <td>0</td>\n",
       "    </tr>\n",
       "    <tr>\n",
       "      <th>20535</th>\n",
       "      <td>363</td>\n",
       "      <td>80</td>\n",
       "      <td>4</td>\n",
       "      <td>891498434</td>\n",
       "      <td>20</td>\n",
       "      <td>1</td>\n",
       "      <td>student</td>\n",
       "      <td>Hot Shots! Part Deux (1993)</td>\n",
       "      <td>0</td>\n",
       "      <td>1</td>\n",
       "      <td>...</td>\n",
       "      <td>0</td>\n",
       "      <td>0</td>\n",
       "      <td>0</td>\n",
       "      <td>0</td>\n",
       "      <td>0</td>\n",
       "      <td>0</td>\n",
       "      <td>0</td>\n",
       "      <td>0</td>\n",
       "      <td>1</td>\n",
       "      <td>0</td>\n",
       "    </tr>\n",
       "    <tr>\n",
       "      <th>73815</th>\n",
       "      <td>588</td>\n",
       "      <td>729</td>\n",
       "      <td>3</td>\n",
       "      <td>890024488</td>\n",
       "      <td>18</td>\n",
       "      <td>0</td>\n",
       "      <td>student</td>\n",
       "      <td>Nell (1994)</td>\n",
       "      <td>0</td>\n",
       "      <td>0</td>\n",
       "      <td>...</td>\n",
       "      <td>0</td>\n",
       "      <td>0</td>\n",
       "      <td>0</td>\n",
       "      <td>0</td>\n",
       "      <td>0</td>\n",
       "      <td>0</td>\n",
       "      <td>0</td>\n",
       "      <td>0</td>\n",
       "      <td>0</td>\n",
       "      <td>0</td>\n",
       "    </tr>\n",
       "  </tbody>\n",
       "</table>\n",
       "<p>5 rows × 27 columns</p>\n",
       "</div>"
      ],
      "text/plain": [
       "       user_id  movie_id  rating  timestamp  age  sex occupation  \\\n",
       "7767       381       588       3  892697338   33    1     artist   \n",
       "26245      396       871       2  884646289   57    1   engineer   \n",
       "89643      574       319       5  891279236   56    1   educator   \n",
       "20535      363        80       4  891498434   20    1    student   \n",
       "73815      588       729       3  890024488   18    0    student   \n",
       "\n",
       "                           movie_title  unknown  Action  ...  Fantasy  \\\n",
       "7767       Beauty and the Beast (1991)        0       0  ...        0   \n",
       "26245            Vegas Vacation (1997)        0       0  ...        0   \n",
       "89643  Everyone Says I Love You (1996)        0       0  ...        0   \n",
       "20535      Hot Shots! Part Deux (1993)        0       1  ...        0   \n",
       "73815                      Nell (1994)        0       0  ...        0   \n",
       "\n",
       "       Film-Noir  Horror  Musical  Mystery  Romance  Sci-Fi  Thriller  War  \\\n",
       "7767           0       0        1        0        0       0         0    0   \n",
       "26245          0       0        0        0        0       0         0    0   \n",
       "89643          0       0        1        0        1       0         0    0   \n",
       "20535          0       0        0        0        0       0         0    1   \n",
       "73815          0       0        0        0        0       0         0    0   \n",
       "\n",
       "       Western  \n",
       "7767         0  \n",
       "26245        0  \n",
       "89643        0  \n",
       "20535        0  \n",
       "73815        0  \n",
       "\n",
       "[5 rows x 27 columns]"
      ]
     },
     "execution_count": 13,
     "metadata": {},
     "output_type": "execute_result"
    }
   ],
   "source": [
    "df.sample(5)"
   ]
  },
  {
   "cell_type": "markdown",
   "metadata": {},
   "source": [
    "## 2. Посчитайте среднюю оценку, которую поставил каждый пользователь"
   ]
  },
  {
   "cell_type": "code",
   "execution_count": 163,
   "metadata": {},
   "outputs": [],
   "source": [
    "# umr = df.groupby(['user_id', 'movie_id']).mean()[['rating']]\n",
    "# umr.style.bar()"
   ]
  },
  {
   "cell_type": "markdown",
   "metadata": {},
   "source": [
    "**Список пользователей достаточно большой, чтобы выводить всех на экран, давате посмотрим топ:**\n",
    "- топ 5 по средней самым высоким оценкам оставленных пользователями\n",
    "- топ 5 по средней самым низким оценкам оставленных пользователями\n",
    "\n",
    "***umr_mean*** - посмотреть оценки по всем пользователям, сортировка от большего к меньшему\n",
    "\n",
    "***umr*** - посмотреть оценки пользователей в разрезе фильмов"
   ]
  },
  {
   "cell_type": "code",
   "execution_count": 77,
   "metadata": {},
   "outputs": [
    {
     "name": "stdout",
     "output_type": "stream",
     "text": [
      "Топ 5 пользователей, которые ставили самые высокие оценки за все время:\n"
     ]
    },
    {
     "data": {
      "text/html": [
       "<div>\n",
       "<style scoped>\n",
       "    .dataframe tbody tr th:only-of-type {\n",
       "        vertical-align: middle;\n",
       "    }\n",
       "\n",
       "    .dataframe tbody tr th {\n",
       "        vertical-align: top;\n",
       "    }\n",
       "\n",
       "    .dataframe thead th {\n",
       "        text-align: right;\n",
       "    }\n",
       "</style>\n",
       "<table border=\"1\" class=\"dataframe\">\n",
       "  <thead>\n",
       "    <tr style=\"text-align: right;\">\n",
       "      <th></th>\n",
       "      <th>user_id</th>\n",
       "      <th>rating</th>\n",
       "    </tr>\n",
       "  </thead>\n",
       "  <tbody>\n",
       "    <tr>\n",
       "      <th>0</th>\n",
       "      <td>849</td>\n",
       "      <td>4.869565</td>\n",
       "    </tr>\n",
       "    <tr>\n",
       "      <th>1</th>\n",
       "      <td>688</td>\n",
       "      <td>4.833333</td>\n",
       "    </tr>\n",
       "    <tr>\n",
       "      <th>2</th>\n",
       "      <td>507</td>\n",
       "      <td>4.724138</td>\n",
       "    </tr>\n",
       "    <tr>\n",
       "      <th>3</th>\n",
       "      <td>628</td>\n",
       "      <td>4.703704</td>\n",
       "    </tr>\n",
       "    <tr>\n",
       "      <th>4</th>\n",
       "      <td>928</td>\n",
       "      <td>4.687500</td>\n",
       "    </tr>\n",
       "  </tbody>\n",
       "</table>\n",
       "</div>"
      ],
      "text/plain": [
       "   user_id    rating\n",
       "0      849  4.869565\n",
       "1      688  4.833333\n",
       "2      507  4.724138\n",
       "3      628  4.703704\n",
       "4      928  4.687500"
      ]
     },
     "metadata": {},
     "output_type": "display_data"
    },
    {
     "name": "stdout",
     "output_type": "stream",
     "text": [
      "\n",
      "Топ 5 пользователей, которые ставили самые низкие оценки за все время:\n"
     ]
    },
    {
     "data": {
      "text/html": [
       "<div>\n",
       "<style scoped>\n",
       "    .dataframe tbody tr th:only-of-type {\n",
       "        vertical-align: middle;\n",
       "    }\n",
       "\n",
       "    .dataframe tbody tr th {\n",
       "        vertical-align: top;\n",
       "    }\n",
       "\n",
       "    .dataframe thead th {\n",
       "        text-align: right;\n",
       "    }\n",
       "</style>\n",
       "<table border=\"1\" class=\"dataframe\">\n",
       "  <thead>\n",
       "    <tr style=\"text-align: right;\">\n",
       "      <th></th>\n",
       "      <th>user_id</th>\n",
       "      <th>rating</th>\n",
       "    </tr>\n",
       "  </thead>\n",
       "  <tbody>\n",
       "    <tr>\n",
       "      <th>942</th>\n",
       "      <td>181</td>\n",
       "      <td>1.491954</td>\n",
       "    </tr>\n",
       "    <tr>\n",
       "      <th>941</th>\n",
       "      <td>405</td>\n",
       "      <td>1.834464</td>\n",
       "    </tr>\n",
       "    <tr>\n",
       "      <th>940</th>\n",
       "      <td>445</td>\n",
       "      <td>1.985185</td>\n",
       "    </tr>\n",
       "    <tr>\n",
       "      <th>939</th>\n",
       "      <td>685</td>\n",
       "      <td>2.050000</td>\n",
       "    </tr>\n",
       "    <tr>\n",
       "      <th>938</th>\n",
       "      <td>774</td>\n",
       "      <td>2.058036</td>\n",
       "    </tr>\n",
       "  </tbody>\n",
       "</table>\n",
       "</div>"
      ],
      "text/plain": [
       "     user_id    rating\n",
       "942      181  1.491954\n",
       "941      405  1.834464\n",
       "940      445  1.985185\n",
       "939      685  2.050000\n",
       "938      774  2.058036"
      ]
     },
     "metadata": {},
     "output_type": "display_data"
    }
   ],
   "source": [
    "umr_mean = df.groupby('user_id').mean()[['rating']].sort_values('rating', ascending=False).reset_index()\n",
    "# umr_mean.head()\n",
    "\n",
    "print(\"Топ 5 пользователей, которые ставили самые высокие оценки за все время:\")\n",
    "display(umr_mean[:5])\n",
    "\n",
    "print(\"\\nТоп 5 пользователей, которые ставили самые низкие оценки за все время:\")\n",
    "display(umr_mean[-5:].sort_values('rating', ascending=True))"
   ]
  },
  {
   "cell_type": "markdown",
   "metadata": {},
   "source": [
    "**Итого:**\n",
    "- Пользователь с ID 849, поставил в среднем оценки приближенные к максимальному баллу\n",
    "- Пользователь с ID 181, поставил в среднем оценки приближенные к минимальному баллу"
   ]
  },
  {
   "cell_type": "markdown",
   "metadata": {},
   "source": [
    "## 3. Отсортируйте фильмы по количеству оценок"
   ]
  },
  {
   "cell_type": "markdown",
   "metadata": {},
   "source": [
    "**Список фильмов достаточно большой, чтобы выводить все полученные данные на экран, давате посмотрим топ:**\n",
    "- топ 10 фильмов по колличеству оставленных оценок\n",
    "\n",
    "***fmr_count*** - посмотреть колличество оценкок по всем фильмам, сортировка от большего к меньшему"
   ]
  },
  {
   "cell_type": "code",
   "execution_count": 94,
   "metadata": {},
   "outputs": [
    {
     "data": {
      "text/html": [
       "<div>\n",
       "<style scoped>\n",
       "    .dataframe tbody tr th:only-of-type {\n",
       "        vertical-align: middle;\n",
       "    }\n",
       "\n",
       "    .dataframe tbody tr th {\n",
       "        vertical-align: top;\n",
       "    }\n",
       "\n",
       "    .dataframe thead th {\n",
       "        text-align: right;\n",
       "    }\n",
       "</style>\n",
       "<table border=\"1\" class=\"dataframe\">\n",
       "  <thead>\n",
       "    <tr style=\"text-align: right;\">\n",
       "      <th></th>\n",
       "      <th>movie_id</th>\n",
       "      <th>count</th>\n",
       "    </tr>\n",
       "  </thead>\n",
       "  <tbody>\n",
       "    <tr>\n",
       "      <th>0</th>\n",
       "      <td>50</td>\n",
       "      <td>583</td>\n",
       "    </tr>\n",
       "    <tr>\n",
       "      <th>1</th>\n",
       "      <td>258</td>\n",
       "      <td>509</td>\n",
       "    </tr>\n",
       "    <tr>\n",
       "      <th>2</th>\n",
       "      <td>100</td>\n",
       "      <td>508</td>\n",
       "    </tr>\n",
       "    <tr>\n",
       "      <th>3</th>\n",
       "      <td>181</td>\n",
       "      <td>507</td>\n",
       "    </tr>\n",
       "    <tr>\n",
       "      <th>4</th>\n",
       "      <td>294</td>\n",
       "      <td>485</td>\n",
       "    </tr>\n",
       "    <tr>\n",
       "      <th>5</th>\n",
       "      <td>286</td>\n",
       "      <td>481</td>\n",
       "    </tr>\n",
       "    <tr>\n",
       "      <th>6</th>\n",
       "      <td>288</td>\n",
       "      <td>478</td>\n",
       "    </tr>\n",
       "    <tr>\n",
       "      <th>7</th>\n",
       "      <td>1</td>\n",
       "      <td>452</td>\n",
       "    </tr>\n",
       "    <tr>\n",
       "      <th>8</th>\n",
       "      <td>300</td>\n",
       "      <td>431</td>\n",
       "    </tr>\n",
       "    <tr>\n",
       "      <th>9</th>\n",
       "      <td>121</td>\n",
       "      <td>429</td>\n",
       "    </tr>\n",
       "  </tbody>\n",
       "</table>\n",
       "</div>"
      ],
      "text/plain": [
       "   movie_id  count\n",
       "0        50    583\n",
       "1       258    509\n",
       "2       100    508\n",
       "3       181    507\n",
       "4       294    485\n",
       "5       286    481\n",
       "6       288    478\n",
       "7         1    452\n",
       "8       300    431\n",
       "9       121    429"
      ]
     },
     "execution_count": 94,
     "metadata": {},
     "output_type": "execute_result"
    }
   ],
   "source": [
    "fmr_count = df['movie_id'].value_counts().to_frame().reset_index()\n",
    "# fmr_count['percent'] = fmr_count[\"movie_id\"].apply(lambda x : round(100*float(x) / len(fmr_count), 2))\n",
    "fmr_count = fmr_count.rename(columns = {\"index\" : \"movie_id\", \"movie_id\" : \"count\"})\n",
    "fmr_count.head(10)"
   ]
  },
  {
   "cell_type": "markdown",
   "metadata": {},
   "source": [
    "**Итого:**\n",
    "- фильм **Star Wars (1977)** с id 50 имеет самый высокий показатель по оставленным оценкам"
   ]
  },
  {
   "cell_type": "markdown",
   "metadata": {},
   "source": [
    "## 4. Средствами pandas соедините данные по оценкам с данными по пользователям"
   ]
  },
  {
   "cell_type": "code",
   "execution_count": 86,
   "metadata": {},
   "outputs": [
    {
     "data": {
      "text/html": [
       "<div>\n",
       "<style scoped>\n",
       "    .dataframe tbody tr th:only-of-type {\n",
       "        vertical-align: middle;\n",
       "    }\n",
       "\n",
       "    .dataframe tbody tr th {\n",
       "        vertical-align: top;\n",
       "    }\n",
       "\n",
       "    .dataframe thead th {\n",
       "        text-align: right;\n",
       "    }\n",
       "</style>\n",
       "<table border=\"1\" class=\"dataframe\">\n",
       "  <thead>\n",
       "    <tr style=\"text-align: right;\">\n",
       "      <th></th>\n",
       "      <th>user_id</th>\n",
       "      <th>movie_id</th>\n",
       "      <th>rating</th>\n",
       "      <th>timestamp</th>\n",
       "      <th>age</th>\n",
       "      <th>sex</th>\n",
       "      <th>occupation</th>\n",
       "      <th>movie_title</th>\n",
       "      <th>unknown</th>\n",
       "      <th>Action</th>\n",
       "      <th>...</th>\n",
       "      <th>Fantasy</th>\n",
       "      <th>Film-Noir</th>\n",
       "      <th>Horror</th>\n",
       "      <th>Musical</th>\n",
       "      <th>Mystery</th>\n",
       "      <th>Romance</th>\n",
       "      <th>Sci-Fi</th>\n",
       "      <th>Thriller</th>\n",
       "      <th>War</th>\n",
       "      <th>Western</th>\n",
       "    </tr>\n",
       "  </thead>\n",
       "  <tbody>\n",
       "    <tr>\n",
       "      <th>95830</th>\n",
       "      <td>399</td>\n",
       "      <td>39</td>\n",
       "      <td>2</td>\n",
       "      <td>882344310</td>\n",
       "      <td>25</td>\n",
       "      <td>1</td>\n",
       "      <td>other</td>\n",
       "      <td>Strange Days (1995)</td>\n",
       "      <td>0</td>\n",
       "      <td>1</td>\n",
       "      <td>...</td>\n",
       "      <td>0</td>\n",
       "      <td>0</td>\n",
       "      <td>0</td>\n",
       "      <td>0</td>\n",
       "      <td>0</td>\n",
       "      <td>0</td>\n",
       "      <td>1</td>\n",
       "      <td>0</td>\n",
       "      <td>0</td>\n",
       "      <td>0</td>\n",
       "    </tr>\n",
       "    <tr>\n",
       "      <th>53422</th>\n",
       "      <td>128</td>\n",
       "      <td>924</td>\n",
       "      <td>3</td>\n",
       "      <td>879967341</td>\n",
       "      <td>24</td>\n",
       "      <td>0</td>\n",
       "      <td>marketing</td>\n",
       "      <td>White Squall (1996)</td>\n",
       "      <td>0</td>\n",
       "      <td>0</td>\n",
       "      <td>...</td>\n",
       "      <td>0</td>\n",
       "      <td>0</td>\n",
       "      <td>0</td>\n",
       "      <td>0</td>\n",
       "      <td>0</td>\n",
       "      <td>0</td>\n",
       "      <td>0</td>\n",
       "      <td>0</td>\n",
       "      <td>0</td>\n",
       "      <td>0</td>\n",
       "    </tr>\n",
       "    <tr>\n",
       "      <th>20529</th>\n",
       "      <td>1</td>\n",
       "      <td>80</td>\n",
       "      <td>4</td>\n",
       "      <td>876893008</td>\n",
       "      <td>24</td>\n",
       "      <td>1</td>\n",
       "      <td>technician</td>\n",
       "      <td>Hot Shots! Part Deux (1993)</td>\n",
       "      <td>0</td>\n",
       "      <td>1</td>\n",
       "      <td>...</td>\n",
       "      <td>0</td>\n",
       "      <td>0</td>\n",
       "      <td>0</td>\n",
       "      <td>0</td>\n",
       "      <td>0</td>\n",
       "      <td>0</td>\n",
       "      <td>0</td>\n",
       "      <td>0</td>\n",
       "      <td>1</td>\n",
       "      <td>0</td>\n",
       "    </tr>\n",
       "    <tr>\n",
       "      <th>42398</th>\n",
       "      <td>345</td>\n",
       "      <td>365</td>\n",
       "      <td>2</td>\n",
       "      <td>884993760</td>\n",
       "      <td>28</td>\n",
       "      <td>0</td>\n",
       "      <td>librarian</td>\n",
       "      <td>Powder (1995)</td>\n",
       "      <td>0</td>\n",
       "      <td>0</td>\n",
       "      <td>...</td>\n",
       "      <td>0</td>\n",
       "      <td>0</td>\n",
       "      <td>0</td>\n",
       "      <td>0</td>\n",
       "      <td>0</td>\n",
       "      <td>0</td>\n",
       "      <td>0</td>\n",
       "      <td>0</td>\n",
       "      <td>0</td>\n",
       "      <td>0</td>\n",
       "    </tr>\n",
       "    <tr>\n",
       "      <th>81197</th>\n",
       "      <td>58</td>\n",
       "      <td>1105</td>\n",
       "      <td>2</td>\n",
       "      <td>884794758</td>\n",
       "      <td>27</td>\n",
       "      <td>1</td>\n",
       "      <td>programmer</td>\n",
       "      <td>Firestorm (1998)</td>\n",
       "      <td>0</td>\n",
       "      <td>1</td>\n",
       "      <td>...</td>\n",
       "      <td>0</td>\n",
       "      <td>0</td>\n",
       "      <td>0</td>\n",
       "      <td>0</td>\n",
       "      <td>0</td>\n",
       "      <td>0</td>\n",
       "      <td>0</td>\n",
       "      <td>1</td>\n",
       "      <td>0</td>\n",
       "      <td>0</td>\n",
       "    </tr>\n",
       "  </tbody>\n",
       "</table>\n",
       "<p>5 rows × 27 columns</p>\n",
       "</div>"
      ],
      "text/plain": [
       "       user_id  movie_id  rating  timestamp  age  sex  occupation  \\\n",
       "95830      399        39       2  882344310   25    1       other   \n",
       "53422      128       924       3  879967341   24    0   marketing   \n",
       "20529        1        80       4  876893008   24    1  technician   \n",
       "42398      345       365       2  884993760   28    0   librarian   \n",
       "81197       58      1105       2  884794758   27    1  programmer   \n",
       "\n",
       "                       movie_title  unknown  Action  ...  Fantasy  Film-Noir  \\\n",
       "95830          Strange Days (1995)        0       1  ...        0          0   \n",
       "53422          White Squall (1996)        0       0  ...        0          0   \n",
       "20529  Hot Shots! Part Deux (1993)        0       1  ...        0          0   \n",
       "42398                Powder (1995)        0       0  ...        0          0   \n",
       "81197             Firestorm (1998)        0       1  ...        0          0   \n",
       "\n",
       "       Horror  Musical  Mystery  Romance  Sci-Fi  Thriller  War  Western  \n",
       "95830       0        0        0        0       1         0    0        0  \n",
       "53422       0        0        0        0       0         0    0        0  \n",
       "20529       0        0        0        0       0         0    1        0  \n",
       "42398       0        0        0        0       0         0    0        0  \n",
       "81197       0        0        0        0       0         1    0        0  \n",
       "\n",
       "[5 rows x 27 columns]"
      ]
     },
     "execution_count": 86,
     "metadata": {},
     "output_type": "execute_result"
    }
   ],
   "source": [
    "df.sample(5)"
   ]
  },
  {
   "cell_type": "markdown",
   "metadata": {},
   "source": [
    "## 5. Построить модель, которая предсказывает оценку для фильма от пользователя (воспользоваться RandomForestRegressor, т.к. мы решаем задачу регрессии)"
   ]
  },
  {
   "cell_type": "code",
   "execution_count": 97,
   "metadata": {},
   "outputs": [],
   "source": [
    "# corr_df_p = df.corr(method='pearson')\n",
    "# corr_df_p"
   ]
  },
  {
   "cell_type": "code",
   "execution_count": 95,
   "metadata": {},
   "outputs": [
    {
     "data": {
      "image/png": "[encoded data removed]",
      "text/plain": [
       "<Figure size 1296x1152 with 2 Axes>"
      ]
     },
     "metadata": {
      "needs_background": "light"
     },
     "output_type": "display_data"
    }
   ],
   "source": [
    "correlation_matrix = df.corr(method ='pearson').round(2)\n",
    "sns.heatmap(data=correlation_matrix, annot=True, cmap='RdYlGn',linewidths=0.2)\n",
    "fig=plt.gcf()\n",
    "fig.set_size_inches(18,16)\n",
    "plt.show()"
   ]
  },
  {
   "cell_type": "code",
   "execution_count": 137,
   "metadata": {},
   "outputs": [],
   "source": [
    "df_occupation['occupation_id'] = pd.factorize(df_occupation.occupation)[0] + 1\n",
    "df_t = pd.merge(df, df_occupation, on='occupation', how='inner')\n",
    "\n",
    "df_Xy = df_t[['user_id', 'movie_id', 'rating', 'timestamp', 'age', 'sex',\n",
    "       'occupation_id', 'unknown', 'Action', 'Adventure',\n",
    "       'Animation', \"Children's\", 'Comedy', 'Crime', 'Documentary', 'Drama',\n",
    "       'Fantasy', 'Film-Noir', 'Horror', 'Musical', 'Mystery', 'Romance',\n",
    "       'Sci-Fi', 'Thriller', 'War', 'Western']]"
   ]
  },
  {
   "cell_type": "code",
   "execution_count": 138,
   "metadata": {},
   "outputs": [
    {
     "data": {
      "text/plain": [
       "Index(['user_id', 'movie_id', 'rating', 'timestamp', 'age', 'sex',\n",
       "       'occupation_id', 'unknown', 'Action', 'Adventure', 'Animation',\n",
       "       'Children's', 'Comedy', 'Crime', 'Documentary', 'Drama', 'Fantasy',\n",
       "       'Film-Noir', 'Horror', 'Musical', 'Mystery', 'Romance', 'Sci-Fi',\n",
       "       'Thriller', 'War', 'Western'],\n",
       "      dtype='object')"
      ]
     },
     "execution_count": 138,
     "metadata": {},
     "output_type": "execute_result"
    }
   ],
   "source": [
    "df_Xy.columns"
   ]
  },
  {
   "cell_type": "code",
   "execution_count": 173,
   "metadata": {},
   "outputs": [],
   "source": [
    "X = df_Xy[['user_id', 'movie_id', 'age', 'sex',\n",
    "       'occupation_id', 'unknown', 'Action', 'Adventure',\n",
    "       'Animation', \"Children's\", 'Comedy', 'Crime', 'Documentary', 'Drama',\n",
    "       'Fantasy', 'Film-Noir', 'Horror', 'Musical', 'Mystery', 'Romance',\n",
    "       'Sci-Fi', 'Thriller', 'War', 'Western']]\n",
    "y = df_Xy['rating']"
   ]
  },
  {
   "cell_type": "code",
   "execution_count": 174,
   "metadata": {},
   "outputs": [],
   "source": [
    "X_train, X_test, y_train, y_test = model_selection.train_test_split(X, y, test_size=0.3, random_state=0)"
   ]
  },
  {
   "cell_type": "code",
   "execution_count": 175,
   "metadata": {},
   "outputs": [
    {
     "name": "stdout",
     "output_type": "stream",
     "text": [
      "Number of observations in the training data: 70000\n",
      "Number of observations in the test data: 30000\n"
     ]
    }
   ],
   "source": [
    "print('Number of observations in the training data:', len(X_train))\n",
    "print('Number of observations in the test data:',len(X_test))"
   ]
  },
  {
   "cell_type": "code",
   "execution_count": 176,
   "metadata": {},
   "outputs": [
    {
     "data": {
      "text/plain": [
       "RandomForestClassifier(bootstrap=True, class_weight=None, criterion='entropy',\n",
       "            max_depth=None, max_features='auto', max_leaf_nodes=None,\n",
       "            min_impurity_decrease=0.0, min_impurity_split=None,\n",
       "            min_samples_leaf=1, min_samples_split=2,\n",
       "            min_weight_fraction_leaf=0.0, n_estimators=10, n_jobs=None,\n",
       "            oob_score=False, random_state=0, verbose=0, warm_start=False)"
      ]
     },
     "execution_count": 176,
     "metadata": {},
     "output_type": "execute_result"
    }
   ],
   "source": [
    "classifier = RandomForestClassifier(n_estimators = 10, criterion = 'entropy', random_state = 0)\n",
    "classifier.fit(X_train, y_train)"
   ]
  },
  {
   "cell_type": "code",
   "execution_count": 177,
   "metadata": {},
   "outputs": [
    {
     "data": {
      "text/plain": [
       "array([5, 3, 1, ..., 3, 5, 4])"
      ]
     },
     "execution_count": 177,
     "metadata": {},
     "output_type": "execute_result"
    }
   ],
   "source": [
    "y_pred = classifier.predict(X_test)\n",
    "y_pred"
   ]
  },
  {
   "cell_type": "markdown",
   "metadata": {},
   "source": [
    "## 6. Оценить качество регрессора на отложенной (train_test_split) "
   ]
  },
  {
   "cell_type": "code",
   "execution_count": 192,
   "metadata": {},
   "outputs": [
    {
     "data": {
      "text/plain": [
       "0.3435666666666667"
      ]
     },
     "execution_count": 192,
     "metadata": {},
     "output_type": "execute_result"
    }
   ],
   "source": [
    "from sklearn.metrics import accuracy_score\n",
    "accuracy_score(y_test, y_pred)"
   ]
  },
  {
   "cell_type": "code",
   "execution_count": 191,
   "metadata": {},
   "outputs": [
    {
     "data": {
      "text/plain": [
       "0.3491"
      ]
     },
     "execution_count": 191,
     "metadata": {},
     "output_type": "execute_result"
    }
   ],
   "source": [
    "from sklearn.linear_model import LogisticRegression\n",
    "model = LogisticRegression()\n",
    "model.fit(X_train, y_train)\n",
    "model.score(X_test, y_test)"
   ]
  },
  {
   "cell_type": "code",
   "execution_count": 179,
   "metadata": {},
   "outputs": [
    {
     "name": "stdout",
     "output_type": "stream",
     "text": [
      "              precision    recall  f1-score   support\n",
      "\n",
      "           1       0.30      0.24      0.26      1876\n",
      "           2       0.20      0.17      0.18      3460\n",
      "           3       0.33      0.36      0.35      8167\n",
      "           4       0.38      0.43      0.41     10163\n",
      "           5       0.37      0.31      0.34      6334\n",
      "\n",
      "   micro avg       0.34      0.34      0.34     30000\n",
      "   macro avg       0.32      0.30      0.31     30000\n",
      "weighted avg       0.34      0.34      0.34     30000\n",
      "\n"
     ]
    }
   ],
   "source": [
    "from sklearn.metrics import classification_report\n",
    "print(classification_report(y_test, y_pred))"
   ]
  },
  {
   "cell_type": "markdown",
   "metadata": {},
   "source": [
    "**Качество модели 34%, что довольно низкий показатель**"
   ]
  },
  {
   "cell_type": "code",
   "execution_count": null,
   "metadata": {},
   "outputs": [],
   "source": [
    "pass"
   ]
  },
  {
   "cell_type": "markdown",
   "metadata": {},
   "source": [
    "Продолжение работы в **dep_bd_2_spark**"
   ]
  }
 ],
 "metadata": {
  "kernelspec": {
   "display_name": "Python 3",
   "language": "python",
   "name": "python3"
  },
  "language_info": {
   "codemirror_mode": {
    "name": "ipython",
    "version": 3
   },
   "file_extension": ".py",
   "mimetype": "text/x-python",
   "name": "python",
   "nbconvert_exporter": "python",
   "pygments_lexer": "ipython3",
   "version": "3.7.3"
  }
 },
 "nbformat": 4,
 "nbformat_minor": 2
}
