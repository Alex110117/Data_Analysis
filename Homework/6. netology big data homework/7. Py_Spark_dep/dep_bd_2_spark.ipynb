{
  "nbformat": 4,
  "nbformat_minor": 0,
  "metadata": {
    "colab": {
      "name": "dep_bd_2_spark.ipynb",
      "version": "0.3.2",
      "provenance": []
    },
    "kernelspec": {
      "name": "python3",
      "display_name": "Python 3"
    }
  },
  "cells": [
    {
      "cell_type": "code",
      "metadata": {
        "id": "m3mD2VBa6AVy",
        "colab_type": "code",
        "colab": {}
      },
      "source": [
        "!apt-get install openjdk-8-jdk-headless -qq > /dev/null"
      ],
      "execution_count": 0,
      "outputs": []
    },
    {
      "cell_type": "code",
      "metadata": {
        "id": "seW_jDbB7uoK",
        "colab_type": "code",
        "colab": {}
      },
      "source": [
        "!wget -q www-us.apache.org/dist/spark/spark-2.4.3/spark-2.4.3-bin-hadoop2.7.tgz"
      ],
      "execution_count": 0,
      "outputs": []
    },
    {
      "cell_type": "code",
      "metadata": {
        "id": "hrJJXEQo70Kw",
        "colab_type": "code",
        "colab": {}
      },
      "source": [
        "!tar -xvf spark-2.4.3-bin-hadoop2.7.tgz"
      ],
      "execution_count": 0,
      "outputs": []
    },
    {
      "cell_type": "code",
      "metadata": {
        "id": "-JZ2WuaF8JYp",
        "colab_type": "code",
        "colab": {}
      },
      "source": [
        "!pip install -q findspark"
      ],
      "execution_count": 0,
      "outputs": []
    },
    {
      "cell_type": "code",
      "metadata": {
        "id": "tWOG-a0g735U",
        "colab_type": "code",
        "colab": {}
      },
      "source": [
        "import os\n",
        "os.environ[\"JAVA_HOME\"] = \"/usr/lib/jvm/java-8-openjdk-amd64\"\n",
        "os.environ[\"SPARK_HOME\"] = \"/content/spark-2.4.3-bin-hadoop2.7\""
      ],
      "execution_count": 0,
      "outputs": []
    },
    {
      "cell_type": "code",
      "metadata": {
        "id": "vZNPSjeV78VD",
        "colab_type": "code",
        "colab": {}
      },
      "source": [
        "import findspark\n",
        "findspark.init()\n",
        "from pyspark.sql import SparkSession\n",
        "from pyspark.sql import Row\n",
        "from pandas.plotting import scatter_matrix\n",
        "import seaborn as sns\n",
        "import numpy as np\n",
        "from sklearn.linear_model import LinearRegression\n",
        "\n",
        "import warnings\n",
        "warnings.simplefilter('ignore')\n",
        "\n",
        "import pandas as pd\n",
        "import matplotlib.pyplot as plt\n",
        "%matplotlib inline\n",
        "\n",
        "spark = SparkSession.builder.master(\"local[*]\").getOrCreate()"
      ],
      "execution_count": 0,
      "outputs": []
    },
    {
      "cell_type": "markdown",
      "metadata": {
        "id": "_mMOn7Mp-EtY",
        "colab_type": "text"
      },
      "source": [
        "## 7. Загрузить данные в Spark"
      ]
    },
    {
      "cell_type": "code",
      "metadata": {
        "id": "7QdX2wYb8Dvu",
        "colab_type": "code",
        "colab": {}
      },
      "source": [
        "df_data = spark.read.csv(\"u.data\", sep='\\t', header=None, inferSchema=True)\n",
        "df_genre = spark.read.csv(\"u.genre\", sep='|', header=None, inferSchema=True)\n",
        "df_info = spark.read.csv(\"u.info\", sep=' ', header=None, inferSchema=True)\n",
        "df_occupation = spark.read.csv(\"u.occupation\", sep=' ', header=None, inferSchema=True)\n",
        "df_user = spark.read.csv(\"u.user\", sep='|', header=None, inferSchema=True)\n",
        "df_item = spark.read.csv(\"u.item\", sep='|', header=None, inferSchema=True)\n",
        "# encoding='latin_1'"
      ],
      "execution_count": 0,
      "outputs": []
    },
    {
      "cell_type": "code",
      "metadata": {
        "id": "hdlNr8Uc8aw7",
        "colab_type": "code",
        "colab": {}
      },
      "source": [
        "new_names_df_data = ['user_id', 'movie_id', 'rating', 'timestamp']\n",
        "df_data = df_data.toDF(*new_names_df_data)\n",
        "\n",
        "new_names_df_genre = ['genres', 'genres_id']\n",
        "df_genre = df_genre.toDF(*new_names_df_genre)\n",
        "\n",
        "new_names_df_user = ['user_id', 'age', 'gender', 'occupation', 'zip_code']\n",
        "df_user = df_user.toDF(*new_names_df_user)\n",
        "\n",
        "new_names_df_item = ['movie_id', 'movie_title', 'release_date', \n",
        "                     'video_release_date', 'IMDb_URL', 'unknown', \n",
        "                     'Action', 'Adventure', 'Animation', \"Children's\", \n",
        "                     'Comedy', 'Crime', 'Documentary', 'Drama', 'Fantasy', \n",
        "                     'Film-Noir', 'Horror', 'Musical', 'Mystery', 'Romance', \n",
        "                     'Sci-Fi', 'Thriller', 'War', 'Western']\n",
        "df_item = df_item.toDF(*new_names_df_item)"
      ],
      "execution_count": 0,
      "outputs": []
    },
    {
      "cell_type": "markdown",
      "metadata": {
        "id": "iiyzVgFmB4rz",
        "colab_type": "text"
      },
      "source": [
        "## 8. Средствами спарка вывести среднюю оценку для каждого фильма"
      ]
    },
    {
      "cell_type": "code",
      "metadata": {
        "id": "ndAggUL98a0C",
        "colab_type": "code",
        "outputId": "73e20908-d954-437e-af3d-e67d0ccc4d4c",
        "colab": {
          "base_uri": "https://localhost:8080/",
          "height": 459
        }
      },
      "source": [
        "df_data.show()"
      ],
      "execution_count": 0,
      "outputs": [
        {
          "output_type": "stream",
          "text": [
            "+-------+--------+------+---------+\n",
            "|user_id|movie_id|rating|timestamp|\n",
            "+-------+--------+------+---------+\n",
            "|    196|     242|     3|881250949|\n",
            "|    186|     302|     3|891717742|\n",
            "|     22|     377|     1|878887116|\n",
            "|    244|      51|     2|880606923|\n",
            "|    166|     346|     1|886397596|\n",
            "|    298|     474|     4|884182806|\n",
            "|    115|     265|     2|881171488|\n",
            "|    253|     465|     5|891628467|\n",
            "|    305|     451|     3|886324817|\n",
            "|      6|      86|     3|883603013|\n",
            "|     62|     257|     2|879372434|\n",
            "|    286|    1014|     5|879781125|\n",
            "|    200|     222|     5|876042340|\n",
            "|    210|      40|     3|891035994|\n",
            "|    224|      29|     3|888104457|\n",
            "|    303|     785|     3|879485318|\n",
            "|    122|     387|     5|879270459|\n",
            "|    194|     274|     2|879539794|\n",
            "|    291|    1042|     4|874834944|\n",
            "|    234|    1184|     2|892079237|\n",
            "+-------+--------+------+---------+\n",
            "only showing top 20 rows\n",
            "\n"
          ],
          "name": "stdout"
        }
      ]
    },
    {
      "cell_type": "code",
      "metadata": {
        "id": "kg1bl3U2RnFx",
        "colab_type": "code",
        "outputId": "2b415e32-a0ea-436d-d13c-6631bb8ff42e",
        "colab": {
          "base_uri": "https://localhost:8080/",
          "height": 85
        }
      },
      "source": [
        "df_data.dtypes"
      ],
      "execution_count": 0,
      "outputs": [
        {
          "output_type": "execute_result",
          "data": {
            "text/plain": [
              "[('user_id', 'int'),\n",
              " ('movie_id', 'int'),\n",
              " ('rating', 'int'),\n",
              " ('timestamp', 'int')]"
            ]
          },
          "metadata": {
            "tags": []
          },
          "execution_count": 96
        }
      ]
    },
    {
      "cell_type": "code",
      "metadata": {
        "id": "fTnpHMVS_irz",
        "colab_type": "code",
        "outputId": "5cb8cefc-2de4-4068-ec83-ee9e7f856c3f",
        "colab": {
          "base_uri": "https://localhost:8080/",
          "height": 187
        }
      },
      "source": [
        "df_data.describe().show()"
      ],
      "execution_count": 0,
      "outputs": [
        {
          "output_type": "stream",
          "text": [
            "+-------+------------------+------------------+------------------+-----------------+\n",
            "|summary|           user_id|          movie_id|            rating|        timestamp|\n",
            "+-------+------------------+------------------+------------------+-----------------+\n",
            "|  count|            100000|            100000|            100000|           100000|\n",
            "|   mean|         462.48475|         425.53013|           3.52986|8.8352885148862E8|\n",
            "| stddev|266.61442012750905|330.79835632558473|1.1256735991443214|5343856.189502848|\n",
            "|    min|                 1|                 1|                 1|        874724710|\n",
            "|    max|               943|              1682|                 5|        893286638|\n",
            "+-------+------------------+------------------+------------------+-----------------+\n",
            "\n"
          ],
          "name": "stdout"
        }
      ]
    },
    {
      "cell_type": "code",
      "metadata": {
        "id": "FXQtrdXmDUgU",
        "colab_type": "code",
        "outputId": "f561952d-50a1-4e7e-ec85-6ac62297c234",
        "colab": {
          "base_uri": "https://localhost:8080/",
          "height": 459
        }
      },
      "source": [
        "umr_mean = df_data.groupby('movie_id').avg('rating')\n",
        "umr_mean.show(20)"
      ],
      "execution_count": 0,
      "outputs": [
        {
          "output_type": "stream",
          "text": [
            "+--------+------------------+\n",
            "|movie_id|       avg(rating)|\n",
            "+--------+------------------+\n",
            "|     496| 4.121212121212121|\n",
            "|     471|3.6108597285067874|\n",
            "|     463| 3.859154929577465|\n",
            "|     148|          3.203125|\n",
            "|    1342|               2.5|\n",
            "|     833| 3.204081632653061|\n",
            "|    1088| 2.230769230769231|\n",
            "|    1591|3.1666666666666665|\n",
            "|    1238|             3.125|\n",
            "|    1580|               1.0|\n",
            "|    1645|               4.0|\n",
            "|     392|3.5441176470588234|\n",
            "|     623| 2.923076923076923|\n",
            "|     540| 2.511627906976744|\n",
            "|     858|               1.0|\n",
            "|     737| 2.983050847457627|\n",
            "|     243|2.4393939393939394|\n",
            "|    1025|2.9318181818181817|\n",
            "|    1084| 3.857142857142857|\n",
            "|    1127| 2.909090909090909|\n",
            "+--------+------------------+\n",
            "only showing top 20 rows\n",
            "\n"
          ],
          "name": "stdout"
        }
      ]
    },
    {
      "cell_type": "markdown",
      "metadata": {
        "id": "9uOSL73oJO1K",
        "colab_type": "text"
      },
      "source": [
        "## 9. В Spark получить 2 df с 5-ю самыми популярными и самыми непопулярными фильмами (по количеству оценок, либо по самой оценке)"
      ]
    },
    {
      "cell_type": "code",
      "metadata": {
        "id": "sSst65eQEI5P",
        "colab_type": "code",
        "outputId": "83cd9f3c-6d6d-4709-ba3d-e75bd6f37e6e",
        "colab": {
          "base_uri": "https://localhost:8080/",
          "height": 391
        }
      },
      "source": [
        "rating_max = umr_mean.orderBy(\"avg(rating)\", ascending=False)\n",
        "rating_min = umr_mean.orderBy(\"avg(rating)\", ascending=True)\n",
        "\n",
        "rating_max.show(5)\n",
        "rating_min.show(5)"
      ],
      "execution_count": 0,
      "outputs": [
        {
          "output_type": "stream",
          "text": [
            "+--------+-----------+\n",
            "|movie_id|avg(rating)|\n",
            "+--------+-----------+\n",
            "|    1122|        5.0|\n",
            "|    1653|        5.0|\n",
            "|    1599|        5.0|\n",
            "|    1201|        5.0|\n",
            "|    1500|        5.0|\n",
            "+--------+-----------+\n",
            "only showing top 5 rows\n",
            "\n",
            "+--------+-----------+\n",
            "|movie_id|avg(rating)|\n",
            "+--------+-----------+\n",
            "|    1352|        1.0|\n",
            "|    1618|        1.0|\n",
            "|    1339|        1.0|\n",
            "|    1580|        1.0|\n",
            "|     858|        1.0|\n",
            "+--------+-----------+\n",
            "only showing top 5 rows\n",
            "\n"
          ],
          "name": "stdout"
        }
      ]
    },
    {
      "cell_type": "markdown",
      "metadata": {
        "id": "Qr9MHlWHOQWS",
        "colab_type": "text"
      },
      "source": [
        "## 10. Средствами спарка соедините информацию по фильмам и жанрам (u.genre)"
      ]
    },
    {
      "cell_type": "code",
      "metadata": {
        "id": "pkLPdwhKE_GY",
        "colab_type": "code",
        "outputId": "8d430d10-88b7-4d64-e560-e96a7f63647f",
        "colab": {
          "base_uri": "https://localhost:8080/",
          "height": 887
        }
      },
      "source": [
        "df_item.show()\n",
        "df_genre.show()"
      ],
      "execution_count": 0,
      "outputs": [
        {
          "output_type": "stream",
          "text": [
            "+--------+--------------------+------------+------------------+--------------------+-------+------+---------+---------+----------+------+-----+-----------+-----+-------+---------+------+-------+-------+-------+------+--------+---+-------+\n",
            "|movie_id|         movie_title|release_date|video_release_date|            IMDb_URL|unknown|Action|Adventure|Animation|Children's|Comedy|Crime|Documentary|Drama|Fantasy|Film-Noir|Horror|Musical|Mystery|Romance|Sci-Fi|Thriller|War|Western|\n",
            "+--------+--------------------+------------+------------------+--------------------+-------+------+---------+---------+----------+------+-----+-----------+-----+-------+---------+------+-------+-------+-------+------+--------+---+-------+\n",
            "|       1|    Toy Story (1995)| 01-Jan-1995|              null|http://us.imdb.co...|      0|     0|        0|        1|         1|     1|    0|          0|    0|      0|        0|     0|      0|      0|      0|     0|       0|  0|      0|\n",
            "|       2|    GoldenEye (1995)| 01-Jan-1995|              null|http://us.imdb.co...|      0|     1|        1|        0|         0|     0|    0|          0|    0|      0|        0|     0|      0|      0|      0|     0|       1|  0|      0|\n",
            "|       3|   Four Rooms (1995)| 01-Jan-1995|              null|http://us.imdb.co...|      0|     0|        0|        0|         0|     0|    0|          0|    0|      0|        0|     0|      0|      0|      0|     0|       1|  0|      0|\n",
            "|       4|   Get Shorty (1995)| 01-Jan-1995|              null|http://us.imdb.co...|      0|     1|        0|        0|         0|     1|    0|          0|    1|      0|        0|     0|      0|      0|      0|     0|       0|  0|      0|\n",
            "|       5|      Copycat (1995)| 01-Jan-1995|              null|http://us.imdb.co...|      0|     0|        0|        0|         0|     0|    1|          0|    1|      0|        0|     0|      0|      0|      0|     0|       1|  0|      0|\n",
            "|       6|Shanghai Triad (Y...| 01-Jan-1995|              null|http://us.imdb.co...|      0|     0|        0|        0|         0|     0|    0|          0|    1|      0|        0|     0|      0|      0|      0|     0|       0|  0|      0|\n",
            "|       7|Twelve Monkeys (1...| 01-Jan-1995|              null|http://us.imdb.co...|      0|     0|        0|        0|         0|     0|    0|          0|    1|      0|        0|     0|      0|      0|      0|     1|       0|  0|      0|\n",
            "|       8|         Babe (1995)| 01-Jan-1995|              null|http://us.imdb.co...|      0|     0|        0|        0|         1|     1|    0|          0|    1|      0|        0|     0|      0|      0|      0|     0|       0|  0|      0|\n",
            "|       9|Dead Man Walking ...| 01-Jan-1995|              null|http://us.imdb.co...|      0|     0|        0|        0|         0|     0|    0|          0|    1|      0|        0|     0|      0|      0|      0|     0|       0|  0|      0|\n",
            "|      10|  Richard III (1995)| 22-Jan-1996|              null|http://us.imdb.co...|      0|     0|        0|        0|         0|     0|    0|          0|    1|      0|        0|     0|      0|      0|      0|     0|       0|  1|      0|\n",
            "|      11|Seven (Se7en) (1995)| 01-Jan-1995|              null|http://us.imdb.co...|      0|     0|        0|        0|         0|     0|    1|          0|    0|      0|        0|     0|      0|      0|      0|     0|       1|  0|      0|\n",
            "|      12|Usual Suspects, T...| 14-Aug-1995|              null|http://us.imdb.co...|      0|     0|        0|        0|         0|     0|    1|          0|    0|      0|        0|     0|      0|      0|      0|     0|       1|  0|      0|\n",
            "|      13|Mighty Aphrodite ...| 30-Oct-1995|              null|http://us.imdb.co...|      0|     0|        0|        0|         0|     1|    0|          0|    0|      0|        0|     0|      0|      0|      0|     0|       0|  0|      0|\n",
            "|      14|  Postino, Il (1994)| 01-Jan-1994|              null|http://us.imdb.co...|      0|     0|        0|        0|         0|     0|    0|          0|    1|      0|        0|     0|      0|      0|      1|     0|       0|  0|      0|\n",
            "|      15|Mr. Holland's Opu...| 29-Jan-1996|              null|http://us.imdb.co...|      0|     0|        0|        0|         0|     0|    0|          0|    1|      0|        0|     0|      0|      0|      0|     0|       0|  0|      0|\n",
            "|      16|French Twist (Gaz...| 01-Jan-1995|              null|http://us.imdb.co...|      0|     0|        0|        0|         0|     1|    0|          0|    0|      0|        0|     0|      0|      0|      1|     0|       0|  0|      0|\n",
            "|      17|From Dusk Till Da...| 05-Feb-1996|              null|http://us.imdb.co...|      0|     1|        0|        0|         0|     1|    1|          0|    0|      0|        0|     1|      0|      0|      0|     0|       1|  0|      0|\n",
            "|      18|White Balloon, Th...| 01-Jan-1995|              null|http://us.imdb.co...|      0|     0|        0|        0|         0|     0|    0|          0|    1|      0|        0|     0|      0|      0|      0|     0|       0|  0|      0|\n",
            "|      19|Antonia's Line (1...| 01-Jan-1995|              null|http://us.imdb.co...|      0|     0|        0|        0|         0|     0|    0|          0|    1|      0|        0|     0|      0|      0|      0|     0|       0|  0|      0|\n",
            "|      20|Angels and Insect...| 01-Jan-1995|              null|http://us.imdb.co...|      0|     0|        0|        0|         0|     0|    0|          0|    1|      0|        0|     0|      0|      0|      1|     0|       0|  0|      0|\n",
            "+--------+--------------------+------------+------------------+--------------------+-------+------+---------+---------+----------+------+-----+-----------+-----+-------+---------+------+-------+-------+-------+------+--------+---+-------+\n",
            "only showing top 20 rows\n",
            "\n",
            "+-----------+---------+\n",
            "|     genres|genres_id|\n",
            "+-----------+---------+\n",
            "|    unknown|        0|\n",
            "|     Action|        1|\n",
            "|  Adventure|        2|\n",
            "|  Animation|        3|\n",
            "| Children's|        4|\n",
            "|     Comedy|        5|\n",
            "|      Crime|        6|\n",
            "|Documentary|        7|\n",
            "|      Drama|        8|\n",
            "|    Fantasy|        9|\n",
            "|  Film-Noir|       10|\n",
            "|     Horror|       11|\n",
            "|    Musical|       12|\n",
            "|    Mystery|       13|\n",
            "|    Romance|       14|\n",
            "|     Sci-Fi|       15|\n",
            "|   Thriller|       16|\n",
            "|        War|       17|\n",
            "|    Western|       18|\n",
            "+-----------+---------+\n",
            "\n"
          ],
          "name": "stdout"
        }
      ]
    },
    {
      "cell_type": "markdown",
      "metadata": {
        "id": "qx0whjSvPutt",
        "colab_type": "text"
      },
      "source": [
        "Файл df_item уже содержит жанры, не понял данного задания + как соединять ее с df_genre, также не понятно, ведь в фильме может быть несколько жанров + не вижу ключей для соединения."
      ]
    },
    {
      "cell_type": "code",
      "metadata": {
        "id": "GrJ73IhZNdqI",
        "colab_type": "code",
        "colab": {}
      },
      "source": [
        "pass"
      ],
      "execution_count": 0,
      "outputs": []
    }
  ]
}