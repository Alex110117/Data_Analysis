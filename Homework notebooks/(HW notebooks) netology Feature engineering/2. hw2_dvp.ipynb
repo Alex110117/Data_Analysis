{
 "cells": [
  {
   "cell_type": "markdown",
   "metadata": {},
   "source": [
    "## Домашняя работа (media):\n",
    "\n",
    "- Разделить дата сет на трейн и тест в отношение \n",
    "    - 50:50 + random\n",
    "    - 70:30 + random\n",
    "    - 80:20 + random\n",
    "- Обучать наши модели на трейне. Предсказывать и замерять метрику R^2 и на трейне и на тесте\n",
    "- Проверить следующие модели, для каждого разделения: \n",
    "    - sales ~ log_tv + radio \n",
    "    - sales ~ TV + radio \n",
    "    - sales ~ TV + radio + newspaper\n",
    "\n",
    "#### * Доп. задание (taxi):\n",
    "\n",
    "- Проверить, как разные типы преобразования категориальных переменных влияют на метрику (roc_auc_score): #названия функций\n",
    "    - get_one_hot\n",
    "    - get_target_share\n",
    "    - get_woe_v1"
   ]
  },
  {
   "cell_type": "code",
   "execution_count": 58,
   "metadata": {},
   "outputs": [],
   "source": [
    "import pandas as pd\n",
    "import numpy as np\n",
    "import statsmodels.api as sm\n",
    "import statsmodels.formula.api as smf\n",
    "import math\n",
    "\n",
    "np.random.seed(42)\n",
    "\n",
    "import matplotlib\n",
    "import matplotlib.pyplot as plt\n",
    "from mpl_toolkits.mplot3d import axes3d\n",
    "%matplotlib inline\n",
    "\n",
    "from sklearn.preprocessing import StandardScaler, normalize, MinMaxScaler\n",
    "from sklearn.model_selection import train_test_split\n",
    "from sklearn.linear_model import LinearRegression\n",
    "import sklearn\n",
    "\n",
    "import warnings\n",
    "warnings.simplefilter('ignore')"
   ]
  },
  {
   "cell_type": "code",
   "execution_count": 75,
   "metadata": {},
   "outputs": [
    {
     "data": {
      "text/html": [
       "<div>\n",
       "<style scoped>\n",
       "    .dataframe tbody tr th:only-of-type {\n",
       "        vertical-align: middle;\n",
       "    }\n",
       "\n",
       "    .dataframe tbody tr th {\n",
       "        vertical-align: top;\n",
       "    }\n",
       "\n",
       "    .dataframe thead th {\n",
       "        text-align: right;\n",
       "    }\n",
       "</style>\n",
       "<table border=\"1\" class=\"dataframe\">\n",
       "  <thead>\n",
       "    <tr style=\"text-align: right;\">\n",
       "      <th></th>\n",
       "      <th>TV</th>\n",
       "      <th>radio</th>\n",
       "      <th>newspaper</th>\n",
       "      <th>sales</th>\n",
       "      <th>log_tv</th>\n",
       "    </tr>\n",
       "  </thead>\n",
       "  <tbody>\n",
       "    <tr>\n",
       "      <th>160</th>\n",
       "      <td>172.5</td>\n",
       "      <td>18.1</td>\n",
       "      <td>30.7</td>\n",
       "      <td>14.4</td>\n",
       "      <td>7.430453</td>\n",
       "    </tr>\n",
       "    <tr>\n",
       "      <th>14</th>\n",
       "      <td>204.1</td>\n",
       "      <td>32.9</td>\n",
       "      <td>46.0</td>\n",
       "      <td>19.0</td>\n",
       "      <td>7.673132</td>\n",
       "    </tr>\n",
       "    <tr>\n",
       "      <th>109</th>\n",
       "      <td>255.4</td>\n",
       "      <td>26.9</td>\n",
       "      <td>5.5</td>\n",
       "      <td>19.8</td>\n",
       "      <td>7.996615</td>\n",
       "    </tr>\n",
       "    <tr>\n",
       "      <th>19</th>\n",
       "      <td>147.3</td>\n",
       "      <td>23.9</td>\n",
       "      <td>19.1</td>\n",
       "      <td>14.6</td>\n",
       "      <td>7.202614</td>\n",
       "    </tr>\n",
       "    <tr>\n",
       "      <th>122</th>\n",
       "      <td>224.0</td>\n",
       "      <td>2.4</td>\n",
       "      <td>15.6</td>\n",
       "      <td>11.6</td>\n",
       "      <td>7.807355</td>\n",
       "    </tr>\n",
       "  </tbody>\n",
       "</table>\n",
       "</div>"
      ],
      "text/plain": [
       "        TV  radio  newspaper  sales    log_tv\n",
       "160  172.5   18.1       30.7   14.4  7.430453\n",
       "14   204.1   32.9       46.0   19.0  7.673132\n",
       "109  255.4   26.9        5.5   19.8  7.996615\n",
       "19   147.3   23.9       19.1   14.6  7.202614\n",
       "122  224.0    2.4       15.6   11.6  7.807355"
      ]
     },
     "metadata": {},
     "output_type": "display_data"
    },
    {
     "name": "stdout",
     "output_type": "stream",
     "text": [
      "<class 'pandas.core.frame.DataFrame'>\n",
      "RangeIndex: 200 entries, 0 to 199\n",
      "Data columns (total 5 columns):\n",
      "TV           200 non-null float64\n",
      "radio        200 non-null float64\n",
      "newspaper    200 non-null float64\n",
      "sales        200 non-null float64\n",
      "log_tv       200 non-null float64\n",
      "dtypes: float64(5)\n",
      "memory usage: 7.9 KB\n"
     ]
    },
    {
     "data": {
      "text/plain": [
       "None"
      ]
     },
     "metadata": {},
     "output_type": "display_data"
    }
   ],
   "source": [
    "data = '/Users/aleksandr/Desktop/4_лекция_Feature_Selection/Practice_3_media_cut/Advertising.csv'\n",
    "\n",
    "df = pd.read_csv(data)\n",
    "df = df.drop('Unnamed: 0', axis = 1)\n",
    "df['log_tv'] = df.TV.apply(lambda x: math.log(x, 2))\n",
    "\n",
    "display(df.sample(5))\n",
    "display(df.info())"
   ]
  },
  {
   "cell_type": "markdown",
   "metadata": {},
   "source": [
    "### 1. Разделить дата сет на трейн и тест в отношение \n",
    "- 50:50 + random\n",
    "- 70:30 + random\n",
    "- 80:20 + random"
   ]
  },
  {
   "cell_type": "code",
   "execution_count": 130,
   "metadata": {},
   "outputs": [],
   "source": [
    "X = df[['TV', 'radio', 'newspaper', 'log_tv']]\n",
    "y = df['sales']"
   ]
  },
  {
   "cell_type": "markdown",
   "metadata": {},
   "source": [
    "#### To divide df 50/50 + random"
   ]
  },
  {
   "cell_type": "code",
   "execution_count": 131,
   "metadata": {},
   "outputs": [
    {
     "name": "stdout",
     "output_type": "stream",
     "text": [
      "100\n",
      "100\n"
     ]
    }
   ],
   "source": [
    "X_train1, X_test1, y_train1, y_test1 = train_test_split(X, y, test_size=0.5, shuffle=True, random_state=42)\n",
    "\n",
    "print(len(X_train1))\n",
    "print(len(X_test1))"
   ]
  },
  {
   "cell_type": "markdown",
   "metadata": {},
   "source": [
    "#### To divide df 70/30 + random"
   ]
  },
  {
   "cell_type": "code",
   "execution_count": 132,
   "metadata": {},
   "outputs": [
    {
     "name": "stdout",
     "output_type": "stream",
     "text": [
      "140\n",
      "60\n"
     ]
    }
   ],
   "source": [
    "X_train1, X_test1, y_train1, y_test1 = train_test_split(X, y, test_size=0.3, shuffle=True, random_state=42)\n",
    "\n",
    "print(len(X_train1))\n",
    "print(len(X_test1))"
   ]
  },
  {
   "cell_type": "markdown",
   "metadata": {},
   "source": [
    "#### To divide df 80/20 + random"
   ]
  },
  {
   "cell_type": "code",
   "execution_count": 133,
   "metadata": {},
   "outputs": [
    {
     "name": "stdout",
     "output_type": "stream",
     "text": [
      "160\n",
      "40\n"
     ]
    }
   ],
   "source": [
    "X_train1, X_test1, y_train1, y_test1 = train_test_split(X, y, test_size=0.2, shuffle=True, random_state=42)\n",
    "\n",
    "print(len(X_train1))\n",
    "print(len(X_test1))"
   ]
  },
  {
   "cell_type": "markdown",
   "metadata": {},
   "source": [
    "### 2, 3. Обучать наши модели на трейне. Предсказывать и замерять метрику R^2 и на трейне и на тесте. Проверить следующие модели, для каждого разделения: \n",
    "- sales ~ log_tv + radio \n",
    "- sales ~ TV + radio \n",
    "- sales ~ TV + radio + newspaper"
   ]
  },
  {
   "cell_type": "markdown",
   "metadata": {},
   "source": [
    "#### 50/50 + random / RSS, RSE, R^2 / sales ~ log_tv + radio"
   ]
  },
  {
   "cell_type": "code",
   "execution_count": 77,
   "metadata": {},
   "outputs": [
    {
     "name": "stdout",
     "output_type": "stream",
     "text": [
      "RSS: 276.10766914243914\n",
      "RSE: 1.6871487237055998\n",
      "R^2: 0.8997594187070235 \n",
      "\n",
      "RSS test: 256.86921012930213\n",
      "RSE test: 1.6273094932741043\n",
      "R^2 test: 0.9017771480682204\n"
     ]
    }
   ],
   "source": [
    "X_train, y_test = train_test_split(df, test_size=0.5, random_state=42, shuffle=True)\n",
    "three_x_lm = smf.ols('sales ~ log_tv + radio', X_train).fit()\n",
    "rss = np.sum(three_x_lm.resid ** 2)\n",
    "\n",
    "print(\"RSS:\", rss)\n",
    "print(\"RSE:\", np.sqrt(rss / (X_train.shape[0] - 2 - 1)))\n",
    "print(\"R^2:\", three_x_lm.rsquared, '\\n')\n",
    "\n",
    "X, y = three_x_lm.predict(y_test[['log_tv', 'radio']]), y_test['sales']\n",
    "TSS_test = np.sum((y - y.mean())**2)\n",
    "RSS_test = np.sum((y - X)**2)\n",
    "RSE_test = np.sqrt(RSS_test / (y_test.shape[0] - 2 - 1))\n",
    "R_2_test = sklearn.metrics.r2_score(y, X)\n",
    "\n",
    "print(\"RSS test:\", RSS_test)\n",
    "print(\"RSE test:\", RSE_test)\n",
    "print(\"R^2 test:\", R_2_test)"
   ]
  },
  {
   "cell_type": "code",
   "execution_count": 129,
   "metadata": {},
   "outputs": [
    {
     "name": "stdout",
     "output_type": "stream",
     "text": [
      "Score train: 0.8997594187070235\n",
      "Score test: 0.9017771480682202\n"
     ]
    }
   ],
   "source": [
    "X = df[['log_tv', 'radio']]\n",
    "y = df['sales']\n",
    "\n",
    "X_train1, X_test1, y_train1, y_test1 = train_test_split(X, y, test_size=0.5, shuffle=True, random_state=42)\n",
    "\n",
    "lm = LinearRegression()\n",
    "model = lm.fit(X_train1, y_train1)\n",
    "\n",
    "print('Score train:', model.score(X_train1, y_train1))\n",
    "print('Score test:', model.score(X_test1, y_test1))"
   ]
  },
  {
   "cell_type": "markdown",
   "metadata": {},
   "source": [
    "#### 50/50 + random / RSS, RSE, R^2 / sales ~ TV + radio"
   ]
  },
  {
   "cell_type": "code",
   "execution_count": 78,
   "metadata": {},
   "outputs": [
    {
     "name": "stdout",
     "output_type": "stream",
     "text": [
      "RSS: 269.79672077541716\n",
      "RSE: 1.667755825212454\n",
      "R^2: 0.9020506014720118 \n",
      "\n",
      "RSS test: 306.90663871598946\n",
      "RSE test: 1.7787596707099644\n",
      "R^2 test: 0.8826436017134698\n"
     ]
    }
   ],
   "source": [
    "X_train, y_test = train_test_split(df, test_size=0.5, random_state=42, shuffle=True)\n",
    "three_x_lm = smf.ols('sales ~ TV + radio', X_train).fit()\n",
    "rss = np.sum(three_x_lm.resid ** 2)\n",
    "\n",
    "print(\"RSS:\", rss)\n",
    "print(\"RSE:\", np.sqrt(rss / (X_train.shape[0] - 2 - 1)))\n",
    "print(\"R^2:\", three_x_lm.rsquared, '\\n')\n",
    "\n",
    "X, y = three_x_lm.predict(y_test[['TV', 'radio']]), y_test['sales']\n",
    "TSS_test = np.sum((y - y.mean())**2)\n",
    "RSS_test = np.sum((y - X)**2)\n",
    "RSE_test = np.sqrt(RSS_test / (y_test.shape[0] - 2 - 1))\n",
    "R_2_test = sklearn.metrics.r2_score(y, X)\n",
    "\n",
    "print(\"RSS test:\", RSS_test)\n",
    "print(\"RSE test:\", RSE_test)\n",
    "print(\"R^2 test:\", R_2_test)"
   ]
  },
  {
   "cell_type": "code",
   "execution_count": 128,
   "metadata": {},
   "outputs": [
    {
     "name": "stdout",
     "output_type": "stream",
     "text": [
      "Score train: 0.9020506014720118\n",
      "Score test: 0.8826436017134701\n"
     ]
    }
   ],
   "source": [
    "X = df[['TV', 'radio']]\n",
    "y = df['sales']\n",
    "\n",
    "X_train1, X_test1, y_train1, y_test1 = train_test_split(X, y, test_size=0.5, shuffle=True, random_state=42)\n",
    "\n",
    "lm = LinearRegression()\n",
    "model = lm.fit(X_train1, y_train1)\n",
    "\n",
    "print('Score train:', model.score(X_train1, y_train1))\n",
    "print('Score test:', model.score(X_test1, y_test1))"
   ]
  },
  {
   "cell_type": "markdown",
   "metadata": {},
   "source": [
    "#### 50/50 + random / RSS, RSE, R^2 / sales ~ TV + radio + newspaper"
   ]
  },
  {
   "cell_type": "code",
   "execution_count": 79,
   "metadata": {},
   "outputs": [
    {
     "name": "stdout",
     "output_type": "stream",
     "text": [
      "RSS: 263.7072834762901\n",
      "RSE: 1.657392792775656\n",
      "R^2: 0.9042613648908893 \n",
      "\n",
      "RSS test: 334.47866377352887\n",
      "RSE test: 1.866588531959019\n",
      "R^2 test: 0.8721004816045134\n"
     ]
    }
   ],
   "source": [
    "X_train, y_test = train_test_split(df, test_size=0.5, random_state=42, shuffle=True)\n",
    "three_x_lm = smf.ols('sales ~ TV + radio + newspaper', X_train).fit()\n",
    "rss = np.sum(three_x_lm.resid ** 2)\n",
    "\n",
    "print(\"RSS:\", rss)\n",
    "print(\"RSE:\", np.sqrt(rss / (X_train.shape[0] - 3 - 1)))\n",
    "print(\"R^2:\", three_x_lm.rsquared, '\\n')\n",
    "\n",
    "X, y = three_x_lm.predict(y_test[['TV', 'radio', 'newspaper']]), y_test['sales']\n",
    "TSS_test = np.sum((y - y.mean())**2)\n",
    "RSS_test = np.sum((y - X)**2)\n",
    "RSE_test = np.sqrt(RSS_test / (y_test.shape[0] - 3 - 1))\n",
    "R_2_test = sklearn.metrics.r2_score(y, X)\n",
    "\n",
    "print(\"RSS test:\", RSS_test)\n",
    "print(\"RSE test:\", RSE_test)\n",
    "print(\"R^2 test:\", R_2_test)"
   ]
  },
  {
   "cell_type": "code",
   "execution_count": 127,
   "metadata": {},
   "outputs": [
    {
     "name": "stdout",
     "output_type": "stream",
     "text": [
      "Score train: 0.9042613648908894\n",
      "Score test: 0.8721004816045136\n"
     ]
    }
   ],
   "source": [
    "X = df[['TV', 'radio', 'newspaper']]\n",
    "y = df['sales']\n",
    "\n",
    "X_train1, X_test1, y_train1, y_test1 = train_test_split(X, y, test_size=0.5, shuffle=True, random_state=42)\n",
    "\n",
    "lm = LinearRegression()\n",
    "model = lm.fit(X_train1, y_train1)\n",
    "\n",
    "print('Score train:', model.score(X_train1, y_train1))\n",
    "print('Score test:', model.score(X_test1, y_test1))"
   ]
  },
  {
   "cell_type": "markdown",
   "metadata": {},
   "source": [
    "#### 70/30 + random / RSS, RSE, R^2 / sales ~ log_tv + radio"
   ]
  },
  {
   "cell_type": "code",
   "execution_count": 80,
   "metadata": {},
   "outputs": [
    {
     "name": "stdout",
     "output_type": "stream",
     "text": [
      "RSS: 369.7682294975135\n",
      "RSE: 1.642874971358045\n",
      "R^2: 0.8993482542237392 \n",
      "\n",
      "RSS test: 140.24128994898444\n",
      "RSE test: 1.5685577795787187\n",
      "R^2 test: 0.9143970569382003\n"
     ]
    }
   ],
   "source": [
    "X_train, y_test = train_test_split(df, test_size=0.3, random_state=42, shuffle=True)\n",
    "three_x_lm = smf.ols('sales ~ log_tv + radio', X_train).fit()\n",
    "rss = np.sum(three_x_lm.resid ** 2)\n",
    "\n",
    "print(\"RSS:\", rss)\n",
    "print(\"RSE:\", np.sqrt(rss / (X_train.shape[0] - 2 - 1)))\n",
    "print(\"R^2:\", three_x_lm.rsquared, '\\n')\n",
    "\n",
    "X, y = three_x_lm.predict(y_test[['log_tv', 'radio']]), y_test['sales']\n",
    "TSS_test = np.sum((y - y.mean())**2)\n",
    "RSS_test = np.sum((y - X)**2)\n",
    "RSE_test = np.sqrt(RSS_test / (y_test.shape[0] - 2 - 1))\n",
    "R_2_test = sklearn.metrics.r2_score(y, X)\n",
    "\n",
    "print(\"RSS test:\", RSS_test)\n",
    "print(\"RSE test:\", RSE_test)\n",
    "print(\"R^2 test:\", R_2_test)"
   ]
  },
  {
   "cell_type": "code",
   "execution_count": 126,
   "metadata": {},
   "outputs": [
    {
     "name": "stdout",
     "output_type": "stream",
     "text": [
      "Score train: 0.8993482542237392\n",
      "Score test: 0.9143970569382007\n"
     ]
    }
   ],
   "source": [
    "X = df[['log_tv', 'radio']]\n",
    "y = df['sales']\n",
    "\n",
    "X_train2, X_test2, y_train2, y_test2 = train_test_split(X, y, test_size=0.3, shuffle=True, random_state=42)\n",
    "\n",
    "lm = LinearRegression()\n",
    "model = lm.fit(X_train2, y_train2)\n",
    "\n",
    "print('Score train:', model.score(X_train2, y_train2))\n",
    "print('Score test:', model.score(X_test2, y_test2))"
   ]
  },
  {
   "cell_type": "markdown",
   "metadata": {},
   "source": [
    "#### 70/30 + random / RSS, RSE, R^2 / sales ~ TV + radio"
   ]
  },
  {
   "cell_type": "code",
   "execution_count": 81,
   "metadata": {},
   "outputs": [
    {
     "name": "stdout",
     "output_type": "stream",
     "text": [
      "RSS: 349.6011203718844\n",
      "RSE: 1.5974457722925104\n",
      "R^2: 0.9048377867980044 \n",
      "\n",
      "RSS test: 220.1428232718409\n",
      "RSE test: 1.9652365746247507\n",
      "R^2 test: 0.8656253548947074\n"
     ]
    }
   ],
   "source": [
    "X_train, y_test = train_test_split(df, test_size=0.3, random_state=42, shuffle=True)\n",
    "three_x_lm = smf.ols('sales ~ TV + radio', X_train).fit()\n",
    "rss = np.sum(three_x_lm.resid ** 2)\n",
    "\n",
    "print(\"RSS:\", rss)\n",
    "print(\"RSE:\", np.sqrt(rss / (X_train.shape[0] - 2 - 1)))\n",
    "print(\"R^2:\", three_x_lm.rsquared, '\\n')\n",
    "\n",
    "X, y = three_x_lm.predict(y_test[['TV', 'radio']]), y_test['sales']\n",
    "TSS_test = np.sum((y - y.mean())**2)\n",
    "RSS_test = np.sum((y - X)**2)\n",
    "RSE_test = np.sqrt(RSS_test / (y_test.shape[0] - 2 - 1))\n",
    "R_2_test = sklearn.metrics.r2_score(y, X)\n",
    "\n",
    "print(\"RSS test:\", RSS_test)\n",
    "print(\"RSE test:\", RSE_test)\n",
    "print(\"R^2 test:\", R_2_test)"
   ]
  },
  {
   "cell_type": "code",
   "execution_count": 125,
   "metadata": {},
   "outputs": [
    {
     "name": "stdout",
     "output_type": "stream",
     "text": [
      "Score train: 0.9048377867980043\n",
      "Score test: 0.8656253548947075\n"
     ]
    }
   ],
   "source": [
    "X = df[['TV', 'radio']]\n",
    "y = df['sales']\n",
    "\n",
    "X_train2, X_test2, y_train2, y_test2 = train_test_split(X, y, test_size=0.3, shuffle=True, random_state=42)\n",
    "\n",
    "lm = LinearRegression()\n",
    "model = lm.fit(X_train2, y_train2)\n",
    "\n",
    "print('Score train:', model.score(X_train2, y_train2))\n",
    "print('Score test:', model.score(X_test2, y_test2))"
   ]
  },
  {
   "cell_type": "markdown",
   "metadata": {},
   "source": [
    "#### 70/30 + random / RSS, RSE, R^2 / sales ~ TV + radio + newspaper"
   ]
  },
  {
   "cell_type": "code",
   "execution_count": 82,
   "metadata": {},
   "outputs": [
    {
     "name": "stdout",
     "output_type": "stream",
     "text": [
      "RSS: 347.1097250468101\n",
      "RSE: 1.5975848616114496\n",
      "R^2: 0.9055159502227753 \n",
      "\n",
      "RSS test: 227.807834202913\n",
      "RSE test: 2.0169276237232046\n",
      "R^2 test: 0.8609466508230369\n"
     ]
    }
   ],
   "source": [
    "X_train, y_test = train_test_split(df, test_size=0.3, random_state=42, shuffle=True)\n",
    "three_x_lm = smf.ols('sales ~ TV + radio + newspaper', X_train).fit()\n",
    "rss = np.sum(three_x_lm.resid ** 2)\n",
    "\n",
    "print(\"RSS:\", rss)\n",
    "print(\"RSE:\", np.sqrt(rss / (X_train.shape[0] - 3 - 1)))\n",
    "print(\"R^2:\", three_x_lm.rsquared, '\\n')\n",
    "\n",
    "X, y = three_x_lm.predict(y_test[['TV', 'radio', 'newspaper']]), y_test['sales']\n",
    "TSS_test = np.sum((y - y.mean())**2)\n",
    "RSS_test = np.sum((y - X)**2)\n",
    "RSE_test = np.sqrt(RSS_test / (y_test.shape[0] - 3 - 1))\n",
    "R_2_test = sklearn.metrics.r2_score(y, X)\n",
    "\n",
    "print(\"RSS test:\", RSS_test)\n",
    "print(\"RSE test:\", RSE_test)\n",
    "print(\"R^2 test:\", R_2_test)"
   ]
  },
  {
   "cell_type": "code",
   "execution_count": 124,
   "metadata": {},
   "outputs": [
    {
     "name": "stdout",
     "output_type": "stream",
     "text": [
      "Score train: 0.9055159502227753\n",
      "Score test: 0.8609466508230368\n"
     ]
    }
   ],
   "source": [
    "X = df[['TV', 'radio', 'newspaper']]\n",
    "y = df['sales']\n",
    "\n",
    "X_train2, X_test2, y_train2, y_test2 = train_test_split(X, y, test_size=0.3, shuffle=True, random_state=42)\n",
    "\n",
    "lm = LinearRegression()\n",
    "model = lm.fit(X_train2, y_train2)\n",
    "\n",
    "print('Score train:', model.score(X_train2, y_train2))\n",
    "print('Score test:', model.score(X_test2, y_test2))"
   ]
  },
  {
   "cell_type": "markdown",
   "metadata": {},
   "source": [
    "#### 80/20 + random / RSS, RSE, R^2 / sales ~ log_tv + radio"
   ]
  },
  {
   "cell_type": "code",
   "execution_count": 90,
   "metadata": {},
   "outputs": [
    {
     "name": "stdout",
     "output_type": "stream",
     "text": [
      "RSS: 410.39396728953295\n",
      "RSE: 1.6167789935380994\n",
      "R^2: 0.9011051213818659 \n",
      "\n",
      "RSS test: 96.50156040268362\n",
      "RSE test: 1.6149768670645444\n",
      "R^2 test: 0.9235657691840907\n"
     ]
    }
   ],
   "source": [
    "X_train, y_test = train_test_split(df, test_size=0.2, random_state=42, shuffle=True)\n",
    "three_x_lm = smf.ols('sales ~ log_tv + radio', X_train).fit()\n",
    "rss = np.sum(three_x_lm.resid ** 2)\n",
    "\n",
    "print(\"RSS:\", rss)\n",
    "print(\"RSE:\", np.sqrt(rss / (X_train.shape[0] - 2 - 1)))\n",
    "print(\"R^2:\", three_x_lm.rsquared, '\\n')\n",
    "\n",
    "X, y = three_x_lm.predict(y_test[['log_tv', 'radio']]), y_test['sales']\n",
    "TSS_test = np.sum((y - y.mean())**2)\n",
    "RSS_test = np.sum((y - X)**2)\n",
    "RSE_test = np.sqrt(RSS_test / (y_test.shape[0] - 2 - 1))\n",
    "R_2_test = sklearn.metrics.r2_score(y, X)\n",
    "\n",
    "print(\"RSS test:\", RSS_test)\n",
    "print(\"RSE test:\", RSE_test)\n",
    "print(\"R^2 test:\", R_2_test)"
   ]
  },
  {
   "cell_type": "code",
   "execution_count": 123,
   "metadata": {},
   "outputs": [
    {
     "name": "stdout",
     "output_type": "stream",
     "text": [
      "Score train: 0.9011051213818659\n",
      "Score test: 0.9235657691840907\n"
     ]
    }
   ],
   "source": [
    "X = df[['log_tv', 'radio']]\n",
    "y = df['sales']\n",
    "\n",
    "X_train3, X_test3, y_train3, y_test3 = train_test_split(X, y, test_size=0.2, shuffle=True, random_state=42)\n",
    "\n",
    "lm = LinearRegression()\n",
    "model = lm.fit(X_train3, y_train3)\n",
    "\n",
    "print('Score train:', model.score(X_train3, y_train3))\n",
    "print('Score test:', model.score(X_test3, y_test3))"
   ]
  },
  {
   "cell_type": "markdown",
   "metadata": {},
   "source": [
    "#### 80/20 + random / RSS, RSE, R^2 / sales ~ TV + radio"
   ]
  },
  {
   "cell_type": "code",
   "execution_count": 91,
   "metadata": {},
   "outputs": [
    {
     "name": "stdout",
     "output_type": "stream",
     "text": [
      "RSS: 433.2465274979225\n",
      "RSE: 1.6611839218701105\n",
      "R^2: 0.8955982149747163 \n",
      "\n",
      "RSS test: 125.51792036273409\n",
      "RSE test: 1.841840445320886\n",
      "R^2 test: 0.9005833101920356\n"
     ]
    }
   ],
   "source": [
    "X_train, y_test = train_test_split(df, test_size=0.2, random_state=42, shuffle=True)\n",
    "three_x_lm = smf.ols('sales ~ TV + radio', X_train).fit()\n",
    "rss = np.sum(three_x_lm.resid ** 2)\n",
    "\n",
    "print(\"RSS:\", rss)\n",
    "print(\"RSE:\", np.sqrt(rss / (X_train.shape[0] - 2 - 1)))\n",
    "print(\"R^2:\", three_x_lm.rsquared, '\\n')\n",
    "\n",
    "X, y = three_x_lm.predict(y_test[['TV', 'radio']]), y_test['sales']\n",
    "TSS_test = np.sum((y - y.mean())**2)\n",
    "RSS_test = np.sum((y - X)**2)\n",
    "RSE_test = np.sqrt(RSS_test / (y_test.shape[0] - 2 - 1))\n",
    "R_2_test = sklearn.metrics.r2_score(y, X)\n",
    "\n",
    "print(\"RSS test:\", RSS_test)\n",
    "print(\"RSE test:\", RSE_test)\n",
    "print(\"R^2 test:\", R_2_test)"
   ]
  },
  {
   "cell_type": "code",
   "execution_count": 121,
   "metadata": {},
   "outputs": [
    {
     "name": "stdout",
     "output_type": "stream",
     "text": [
      "Score train: 0.8955982149747163\n",
      "Score test: 0.9005833101920357\n"
     ]
    }
   ],
   "source": [
    "X = df[['TV', 'radio']]\n",
    "y = df['sales']\n",
    "\n",
    "X_train3, X_test3, y_train3, y_test3 = train_test_split(X, y, test_size=0.2, shuffle=True, random_state=42)\n",
    "\n",
    "lm = LinearRegression()\n",
    "model = lm.fit(X_train3, y_train3)\n",
    "\n",
    "print('Score train:', model.score(X_train3, y_train3))\n",
    "print('Score test:', model.score(X_test3, y_test3))"
   ]
  },
  {
   "cell_type": "markdown",
   "metadata": {},
   "source": [
    "#### 80/20 + random / RSS, RSE, R^2 / sales ~ TV + radio + newspaper"
   ]
  },
  {
   "cell_type": "code",
   "execution_count": 92,
   "metadata": {},
   "outputs": [
    {
     "name": "stdout",
     "output_type": "stream",
     "text": [
      "RSS: 432.8207076930263\n",
      "RSE: 1.6656805564035795\n",
      "R^2: 0.8957008271017817 \n",
      "\n",
      "RSS test: 126.96389415904429\n",
      "RSE test: 1.8779709363435926\n",
      "R^2 test: 0.8994380241009119\n"
     ]
    }
   ],
   "source": [
    "X_train, y_test = train_test_split(df, test_size=0.2, random_state=42, shuffle=True)\n",
    "three_x_lm = smf.ols('sales ~ TV + radio + newspaper', X_train).fit()\n",
    "rss = np.sum(three_x_lm.resid ** 2)\n",
    "\n",
    "print(\"RSS:\", rss)\n",
    "print(\"RSE:\", np.sqrt(rss / (X_train.shape[0] - 3 - 1)))\n",
    "print(\"R^2:\", three_x_lm.rsquared, '\\n')\n",
    "\n",
    "X, y = three_x_lm.predict(y_test[['TV', 'radio', 'newspaper']]), y_test['sales']\n",
    "TSS_test = np.sum((y - y.mean())**2)\n",
    "RSS_test = np.sum((y - X)**2)\n",
    "RSE_test = np.sqrt(RSS_test / (y_test.shape[0] - 3 - 1))\n",
    "R_2_test = sklearn.metrics.r2_score(y, X)\n",
    "\n",
    "print(\"RSS test:\", RSS_test)\n",
    "print(\"RSE test:\", RSE_test)\n",
    "print(\"R^2 test:\", R_2_test)"
   ]
  },
  {
   "cell_type": "code",
   "execution_count": 122,
   "metadata": {},
   "outputs": [
    {
     "name": "stdout",
     "output_type": "stream",
     "text": [
      "Score train: 0.8957008271017818\n",
      "Score test: 0.899438024100912\n"
     ]
    }
   ],
   "source": [
    "X = df[['TV', 'radio', 'newspaper']]\n",
    "y = df['sales']\n",
    "\n",
    "X_train3, X_test3, y_train3, y_test3 = train_test_split(X, y, test_size=0.2, shuffle=True, random_state=42)\n",
    "\n",
    "lm = LinearRegression()\n",
    "model = lm.fit(X_train3, y_train3)\n",
    "\n",
    "print('Score train:', model.score(X_train3, y_train3))\n",
    "print('Score test:', model.score(X_test3, y_test3))"
   ]
  },
  {
   "cell_type": "code",
   "execution_count": null,
   "metadata": {},
   "outputs": [],
   "source": [
    "pass"
   ]
  }
 ],
 "metadata": {
  "kernelspec": {
   "display_name": "Python 3",
   "language": "python",
   "name": "python3"
  },
  "language_info": {
   "codemirror_mode": {
    "name": "ipython",
    "version": 3
   },
   "file_extension": ".py",
   "mimetype": "text/x-python",
   "name": "python",
   "nbconvert_exporter": "python",
   "pygments_lexer": "ipython3",
   "version": "3.7.3"
  }
 },
 "nbformat": 4,
 "nbformat_minor": 2
}
